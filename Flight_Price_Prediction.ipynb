{
 "cells": [
  {
   "cell_type": "code",
   "execution_count": null,
   "id": "573a6951",
   "metadata": {},
   "outputs": [],
   "source": [
    "#!pip install lightgbm\n",
    "#!pip install pyfiglet\n",
    "import warnings\n",
    "warnings.filterwarnings('ignore')"
   ]
  },
  {
   "cell_type": "code",
   "execution_count": 1,
   "id": "b88ceae3",
   "metadata": {},
   "outputs": [],
   "source": [
    "import pandas as pd\n",
    "import numpy as np\n",
    "import matplotlib.pyplot as plt\n",
    "import seaborn as sns\n",
    "%matplotlib inline\n",
    "import scikitplot as skplt\n",
    "import warnings\n",
    "warnings.filterwarnings('ignore')\n",
    "from sklearn.preprocessing import OrdinalEncoder, MinMaxScaler, StandardScaler, power_transform\n",
    "from sklearn.model_selection import train_test_split, GridSearchCV, cross_val_score, KFold\n",
    "from sklearn.ensemble import ExtraTreesRegressor, RandomForestRegressor\n",
    "from sklearn.linear_model import LinearRegression, Lasso\n",
    "from lightgbm import LGBMRegressor\n",
    "from sklearn.tree import DecisionTreeRegressor\n",
    "from xgboost import XGBRegressor\n",
    "from sklearn.metrics import r2_score, mean_absolute_error, mean_squared_error\n",
    "import pyfiglet"
   ]
  },
  {
   "cell_type": "code",
   "execution_count": 2,
   "id": "137fdd14",
   "metadata": {},
   "outputs": [
    {
     "data": {
      "text/html": [
       "<div>\n",
       "<style scoped>\n",
       "    .dataframe tbody tr th:only-of-type {\n",
       "        vertical-align: middle;\n",
       "    }\n",
       "\n",
       "    .dataframe tbody tr th {\n",
       "        vertical-align: top;\n",
       "    }\n",
       "\n",
       "    .dataframe thead th {\n",
       "        text-align: right;\n",
       "    }\n",
       "</style>\n",
       "<table border=\"1\" class=\"dataframe\">\n",
       "  <thead>\n",
       "    <tr style=\"text-align: right;\">\n",
       "      <th></th>\n",
       "      <th>Airline</th>\n",
       "      <th>Date_of_Journey</th>\n",
       "      <th>Source</th>\n",
       "      <th>Destination</th>\n",
       "      <th>Route</th>\n",
       "      <th>Dep_Time</th>\n",
       "      <th>Arrival_Time</th>\n",
       "      <th>Duration</th>\n",
       "      <th>Total_Stops</th>\n",
       "      <th>Additional_Info</th>\n",
       "      <th>Price</th>\n",
       "    </tr>\n",
       "  </thead>\n",
       "  <tbody>\n",
       "    <tr>\n",
       "      <th>0</th>\n",
       "      <td>IndiGo</td>\n",
       "      <td>24/03/2019</td>\n",
       "      <td>Banglore</td>\n",
       "      <td>New Delhi</td>\n",
       "      <td>BLR → DEL</td>\n",
       "      <td>22:20</td>\n",
       "      <td>01:10 22 Mar</td>\n",
       "      <td>2h 50m</td>\n",
       "      <td>non-stop</td>\n",
       "      <td>No info</td>\n",
       "      <td>3897</td>\n",
       "    </tr>\n",
       "    <tr>\n",
       "      <th>1</th>\n",
       "      <td>Air India</td>\n",
       "      <td>1/05/2019</td>\n",
       "      <td>Kolkata</td>\n",
       "      <td>Banglore</td>\n",
       "      <td>CCU → IXR → BBI → BLR</td>\n",
       "      <td>05:50</td>\n",
       "      <td>13:15</td>\n",
       "      <td>7h 25m</td>\n",
       "      <td>2 stops</td>\n",
       "      <td>No info</td>\n",
       "      <td>7662</td>\n",
       "    </tr>\n",
       "    <tr>\n",
       "      <th>2</th>\n",
       "      <td>Jet Airways</td>\n",
       "      <td>9/06/2019</td>\n",
       "      <td>Delhi</td>\n",
       "      <td>Cochin</td>\n",
       "      <td>DEL → LKO → BOM → COK</td>\n",
       "      <td>09:25</td>\n",
       "      <td>04:25 10 Jun</td>\n",
       "      <td>19h</td>\n",
       "      <td>2 stops</td>\n",
       "      <td>No info</td>\n",
       "      <td>13882</td>\n",
       "    </tr>\n",
       "    <tr>\n",
       "      <th>3</th>\n",
       "      <td>IndiGo</td>\n",
       "      <td>12/05/2019</td>\n",
       "      <td>Kolkata</td>\n",
       "      <td>Banglore</td>\n",
       "      <td>CCU → NAG → BLR</td>\n",
       "      <td>18:05</td>\n",
       "      <td>23:30</td>\n",
       "      <td>5h 25m</td>\n",
       "      <td>1 stop</td>\n",
       "      <td>No info</td>\n",
       "      <td>6218</td>\n",
       "    </tr>\n",
       "    <tr>\n",
       "      <th>4</th>\n",
       "      <td>IndiGo</td>\n",
       "      <td>01/03/2019</td>\n",
       "      <td>Banglore</td>\n",
       "      <td>New Delhi</td>\n",
       "      <td>BLR → NAG → DEL</td>\n",
       "      <td>16:50</td>\n",
       "      <td>21:35</td>\n",
       "      <td>4h 45m</td>\n",
       "      <td>1 stop</td>\n",
       "      <td>No info</td>\n",
       "      <td>13302</td>\n",
       "    </tr>\n",
       "    <tr>\n",
       "      <th>...</th>\n",
       "      <td>...</td>\n",
       "      <td>...</td>\n",
       "      <td>...</td>\n",
       "      <td>...</td>\n",
       "      <td>...</td>\n",
       "      <td>...</td>\n",
       "      <td>...</td>\n",
       "      <td>...</td>\n",
       "      <td>...</td>\n",
       "      <td>...</td>\n",
       "      <td>...</td>\n",
       "    </tr>\n",
       "    <tr>\n",
       "      <th>10678</th>\n",
       "      <td>Air Asia</td>\n",
       "      <td>9/04/2019</td>\n",
       "      <td>Kolkata</td>\n",
       "      <td>Banglore</td>\n",
       "      <td>CCU → BLR</td>\n",
       "      <td>19:55</td>\n",
       "      <td>22:25</td>\n",
       "      <td>2h 30m</td>\n",
       "      <td>non-stop</td>\n",
       "      <td>No info</td>\n",
       "      <td>4107</td>\n",
       "    </tr>\n",
       "    <tr>\n",
       "      <th>10679</th>\n",
       "      <td>Air India</td>\n",
       "      <td>27/04/2019</td>\n",
       "      <td>Kolkata</td>\n",
       "      <td>Banglore</td>\n",
       "      <td>CCU → BLR</td>\n",
       "      <td>20:45</td>\n",
       "      <td>23:20</td>\n",
       "      <td>2h 35m</td>\n",
       "      <td>non-stop</td>\n",
       "      <td>No info</td>\n",
       "      <td>4145</td>\n",
       "    </tr>\n",
       "    <tr>\n",
       "      <th>10680</th>\n",
       "      <td>Jet Airways</td>\n",
       "      <td>27/04/2019</td>\n",
       "      <td>Banglore</td>\n",
       "      <td>Delhi</td>\n",
       "      <td>BLR → DEL</td>\n",
       "      <td>08:20</td>\n",
       "      <td>11:20</td>\n",
       "      <td>3h</td>\n",
       "      <td>non-stop</td>\n",
       "      <td>No info</td>\n",
       "      <td>7229</td>\n",
       "    </tr>\n",
       "    <tr>\n",
       "      <th>10681</th>\n",
       "      <td>Vistara</td>\n",
       "      <td>01/03/2019</td>\n",
       "      <td>Banglore</td>\n",
       "      <td>New Delhi</td>\n",
       "      <td>BLR → DEL</td>\n",
       "      <td>11:30</td>\n",
       "      <td>14:10</td>\n",
       "      <td>2h 40m</td>\n",
       "      <td>non-stop</td>\n",
       "      <td>No info</td>\n",
       "      <td>12648</td>\n",
       "    </tr>\n",
       "    <tr>\n",
       "      <th>10682</th>\n",
       "      <td>Air India</td>\n",
       "      <td>9/05/2019</td>\n",
       "      <td>Delhi</td>\n",
       "      <td>Cochin</td>\n",
       "      <td>DEL → GOI → BOM → COK</td>\n",
       "      <td>10:55</td>\n",
       "      <td>19:15</td>\n",
       "      <td>8h 20m</td>\n",
       "      <td>2 stops</td>\n",
       "      <td>No info</td>\n",
       "      <td>11753</td>\n",
       "    </tr>\n",
       "  </tbody>\n",
       "</table>\n",
       "<p>10683 rows × 11 columns</p>\n",
       "</div>"
      ],
      "text/plain": [
       "           Airline Date_of_Journey    Source Destination  \\\n",
       "0           IndiGo      24/03/2019  Banglore   New Delhi   \n",
       "1        Air India       1/05/2019   Kolkata    Banglore   \n",
       "2      Jet Airways       9/06/2019     Delhi      Cochin   \n",
       "3           IndiGo      12/05/2019   Kolkata    Banglore   \n",
       "4           IndiGo      01/03/2019  Banglore   New Delhi   \n",
       "...            ...             ...       ...         ...   \n",
       "10678     Air Asia       9/04/2019   Kolkata    Banglore   \n",
       "10679    Air India      27/04/2019   Kolkata    Banglore   \n",
       "10680  Jet Airways      27/04/2019  Banglore       Delhi   \n",
       "10681      Vistara      01/03/2019  Banglore   New Delhi   \n",
       "10682    Air India       9/05/2019     Delhi      Cochin   \n",
       "\n",
       "                       Route Dep_Time  Arrival_Time Duration Total_Stops  \\\n",
       "0                  BLR → DEL    22:20  01:10 22 Mar   2h 50m    non-stop   \n",
       "1      CCU → IXR → BBI → BLR    05:50         13:15   7h 25m     2 stops   \n",
       "2      DEL → LKO → BOM → COK    09:25  04:25 10 Jun      19h     2 stops   \n",
       "3            CCU → NAG → BLR    18:05         23:30   5h 25m      1 stop   \n",
       "4            BLR → NAG → DEL    16:50         21:35   4h 45m      1 stop   \n",
       "...                      ...      ...           ...      ...         ...   \n",
       "10678              CCU → BLR    19:55         22:25   2h 30m    non-stop   \n",
       "10679              CCU → BLR    20:45         23:20   2h 35m    non-stop   \n",
       "10680              BLR → DEL    08:20         11:20       3h    non-stop   \n",
       "10681              BLR → DEL    11:30         14:10   2h 40m    non-stop   \n",
       "10682  DEL → GOI → BOM → COK    10:55         19:15   8h 20m     2 stops   \n",
       "\n",
       "      Additional_Info  Price  \n",
       "0             No info   3897  \n",
       "1             No info   7662  \n",
       "2             No info  13882  \n",
       "3             No info   6218  \n",
       "4             No info  13302  \n",
       "...               ...    ...  \n",
       "10678         No info   4107  \n",
       "10679         No info   4145  \n",
       "10680         No info   7229  \n",
       "10681         No info  12648  \n",
       "10682         No info  11753  \n",
       "\n",
       "[10683 rows x 11 columns]"
      ]
     },
     "execution_count": 2,
     "metadata": {},
     "output_type": "execute_result"
    }
   ],
   "source": [
    "df = pd.read_excel(\"C:/Users/Jeet Sarkar/Data Science PG Program/Data_Train.xlsx\")\n",
    "df"
   ]
  },
  {
   "cell_type": "code",
   "execution_count": 3,
   "id": "601cd0ad",
   "metadata": {},
   "outputs": [
    {
     "data": {
      "text/html": [
       "<div>\n",
       "<style scoped>\n",
       "    .dataframe tbody tr th:only-of-type {\n",
       "        vertical-align: middle;\n",
       "    }\n",
       "\n",
       "    .dataframe tbody tr th {\n",
       "        vertical-align: top;\n",
       "    }\n",
       "\n",
       "    .dataframe thead th {\n",
       "        text-align: right;\n",
       "    }\n",
       "</style>\n",
       "<table border=\"1\" class=\"dataframe\">\n",
       "  <thead>\n",
       "    <tr style=\"text-align: right;\">\n",
       "      <th></th>\n",
       "      <th>Price</th>\n",
       "    </tr>\n",
       "  </thead>\n",
       "  <tbody>\n",
       "    <tr>\n",
       "      <th>count</th>\n",
       "      <td>10683.000000</td>\n",
       "    </tr>\n",
       "    <tr>\n",
       "      <th>mean</th>\n",
       "      <td>9087.064121</td>\n",
       "    </tr>\n",
       "    <tr>\n",
       "      <th>std</th>\n",
       "      <td>4611.359167</td>\n",
       "    </tr>\n",
       "    <tr>\n",
       "      <th>min</th>\n",
       "      <td>1759.000000</td>\n",
       "    </tr>\n",
       "    <tr>\n",
       "      <th>25%</th>\n",
       "      <td>5277.000000</td>\n",
       "    </tr>\n",
       "    <tr>\n",
       "      <th>50%</th>\n",
       "      <td>8372.000000</td>\n",
       "    </tr>\n",
       "    <tr>\n",
       "      <th>75%</th>\n",
       "      <td>12373.000000</td>\n",
       "    </tr>\n",
       "    <tr>\n",
       "      <th>max</th>\n",
       "      <td>79512.000000</td>\n",
       "    </tr>\n",
       "  </tbody>\n",
       "</table>\n",
       "</div>"
      ],
      "text/plain": [
       "              Price\n",
       "count  10683.000000\n",
       "mean    9087.064121\n",
       "std     4611.359167\n",
       "min     1759.000000\n",
       "25%     5277.000000\n",
       "50%     8372.000000\n",
       "75%    12373.000000\n",
       "max    79512.000000"
      ]
     },
     "execution_count": 3,
     "metadata": {},
     "output_type": "execute_result"
    }
   ],
   "source": [
    "df.describe()"
   ]
  },
  {
   "cell_type": "code",
   "execution_count": 4,
   "id": "752e9a8e",
   "metadata": {},
   "outputs": [
    {
     "data": {
      "text/plain": [
       "Airline            0\n",
       "Date_of_Journey    0\n",
       "Source             0\n",
       "Destination        0\n",
       "Route              1\n",
       "Dep_Time           0\n",
       "Arrival_Time       0\n",
       "Duration           0\n",
       "Total_Stops        1\n",
       "Additional_Info    0\n",
       "Price              0\n",
       "dtype: int64"
      ]
     },
     "execution_count": 4,
     "metadata": {},
     "output_type": "execute_result"
    }
   ],
   "source": [
    "df.isna().sum()"
   ]
  },
  {
   "cell_type": "markdown",
   "id": "02826241",
   "metadata": {},
   "source": [
    "We have only two missing values 1 is Route and 2 is in Total stops. Let's impute the missing values."
   ]
  },
  {
   "cell_type": "code",
   "execution_count": 5,
   "id": "8335fa34",
   "metadata": {},
   "outputs": [
    {
     "name": "stdout",
     "output_type": "stream",
     "text": [
      "<class 'pandas.core.frame.DataFrame'>\n",
      "RangeIndex: 10683 entries, 0 to 10682\n",
      "Data columns (total 11 columns):\n",
      " #   Column           Non-Null Count  Dtype \n",
      "---  ------           --------------  ----- \n",
      " 0   Airline          10683 non-null  object\n",
      " 1   Date_of_Journey  10683 non-null  object\n",
      " 2   Source           10683 non-null  object\n",
      " 3   Destination      10683 non-null  object\n",
      " 4   Route            10682 non-null  object\n",
      " 5   Dep_Time         10683 non-null  object\n",
      " 6   Arrival_Time     10683 non-null  object\n",
      " 7   Duration         10683 non-null  object\n",
      " 8   Total_Stops      10682 non-null  object\n",
      " 9   Additional_Info  10683 non-null  object\n",
      " 10  Price            10683 non-null  int64 \n",
      "dtypes: int64(1), object(10)\n",
      "memory usage: 918.2+ KB\n"
     ]
    }
   ],
   "source": [
    "df.info()"
   ]
  },
  {
   "cell_type": "markdown",
   "id": "bd2e4907",
   "metadata": {},
   "source": [
    "We have only column whcich contains numeric data and this column is a target column."
   ]
  },
  {
   "cell_type": "markdown",
   "id": "ac0c1105",
   "metadata": {},
   "source": [
    "# Preprocessing"
   ]
  },
  {
   "cell_type": "markdown",
   "id": "da5c49b8",
   "metadata": {},
   "source": [
    "1-Doing feature engineering\n",
    "\n",
    "2-Filling missing values\n",
    "\n",
    "3-Droping some columns\n",
    "\n",
    "Dropping Route, it is not important because we just want to predict the price so basically we need Source and destination and also Droping additional info because it is not important for flight fare prediction and also dropping Date of journey because i will converte that into years,month,day and also dropping duration because if we have Dep_time and Arrival_time we dont need it because it just represent the difference between these two only"
   ]
  },
  {
   "cell_type": "code",
   "execution_count": 6,
   "id": "1d7feaca",
   "metadata": {},
   "outputs": [],
   "source": [
    "def preprocess1(df):\n",
    "    df=df.copy()\n",
    "    df['Date_of_Journey'] = pd.to_datetime(df['Date_of_Journey'])\n",
    "    df['Year_of_Journey'] = df['Date_of_Journey'].dt.year\n",
    "    df['Month_of_Journey'] = df['Date_of_Journey'].dt.month\n",
    "    df['Day_of_Journey'] = df['Date_of_Journey'].dt.day\n",
    "    df['Total_Stops'] = df['Total_Stops'].fillna(df['Total_Stops'].mode()[0])   # Imputing the missing values\n",
    "    df=df.drop(['Date_of_Journey','Route','Duration'], axis=1)\n",
    "    return df"
   ]
  },
  {
   "cell_type": "code",
   "execution_count": 7,
   "id": "92eecf7f",
   "metadata": {},
   "outputs": [],
   "source": [
    "df = preprocess1(df)"
   ]
  },
  {
   "cell_type": "code",
   "execution_count": 8,
   "id": "5355a1d0",
   "metadata": {},
   "outputs": [
    {
     "data": {
      "text/html": [
       "<div>\n",
       "<style scoped>\n",
       "    .dataframe tbody tr th:only-of-type {\n",
       "        vertical-align: middle;\n",
       "    }\n",
       "\n",
       "    .dataframe tbody tr th {\n",
       "        vertical-align: top;\n",
       "    }\n",
       "\n",
       "    .dataframe thead th {\n",
       "        text-align: right;\n",
       "    }\n",
       "</style>\n",
       "<table border=\"1\" class=\"dataframe\">\n",
       "  <thead>\n",
       "    <tr style=\"text-align: right;\">\n",
       "      <th></th>\n",
       "      <th>Airline</th>\n",
       "      <th>Source</th>\n",
       "      <th>Destination</th>\n",
       "      <th>Dep_Time</th>\n",
       "      <th>Arrival_Time</th>\n",
       "      <th>Total_Stops</th>\n",
       "      <th>Additional_Info</th>\n",
       "      <th>Price</th>\n",
       "      <th>Year_of_Journey</th>\n",
       "      <th>Month_of_Journey</th>\n",
       "      <th>Day_of_Journey</th>\n",
       "    </tr>\n",
       "  </thead>\n",
       "  <tbody>\n",
       "    <tr>\n",
       "      <th>0</th>\n",
       "      <td>IndiGo</td>\n",
       "      <td>Banglore</td>\n",
       "      <td>New Delhi</td>\n",
       "      <td>22:20</td>\n",
       "      <td>01:10 22 Mar</td>\n",
       "      <td>non-stop</td>\n",
       "      <td>No info</td>\n",
       "      <td>3897</td>\n",
       "      <td>2019</td>\n",
       "      <td>3</td>\n",
       "      <td>24</td>\n",
       "    </tr>\n",
       "    <tr>\n",
       "      <th>1</th>\n",
       "      <td>Air India</td>\n",
       "      <td>Kolkata</td>\n",
       "      <td>Banglore</td>\n",
       "      <td>05:50</td>\n",
       "      <td>13:15</td>\n",
       "      <td>2 stops</td>\n",
       "      <td>No info</td>\n",
       "      <td>7662</td>\n",
       "      <td>2019</td>\n",
       "      <td>1</td>\n",
       "      <td>5</td>\n",
       "    </tr>\n",
       "    <tr>\n",
       "      <th>2</th>\n",
       "      <td>Jet Airways</td>\n",
       "      <td>Delhi</td>\n",
       "      <td>Cochin</td>\n",
       "      <td>09:25</td>\n",
       "      <td>04:25 10 Jun</td>\n",
       "      <td>2 stops</td>\n",
       "      <td>No info</td>\n",
       "      <td>13882</td>\n",
       "      <td>2019</td>\n",
       "      <td>9</td>\n",
       "      <td>6</td>\n",
       "    </tr>\n",
       "    <tr>\n",
       "      <th>3</th>\n",
       "      <td>IndiGo</td>\n",
       "      <td>Kolkata</td>\n",
       "      <td>Banglore</td>\n",
       "      <td>18:05</td>\n",
       "      <td>23:30</td>\n",
       "      <td>1 stop</td>\n",
       "      <td>No info</td>\n",
       "      <td>6218</td>\n",
       "      <td>2019</td>\n",
       "      <td>12</td>\n",
       "      <td>5</td>\n",
       "    </tr>\n",
       "    <tr>\n",
       "      <th>4</th>\n",
       "      <td>IndiGo</td>\n",
       "      <td>Banglore</td>\n",
       "      <td>New Delhi</td>\n",
       "      <td>16:50</td>\n",
       "      <td>21:35</td>\n",
       "      <td>1 stop</td>\n",
       "      <td>No info</td>\n",
       "      <td>13302</td>\n",
       "      <td>2019</td>\n",
       "      <td>1</td>\n",
       "      <td>3</td>\n",
       "    </tr>\n",
       "    <tr>\n",
       "      <th>...</th>\n",
       "      <td>...</td>\n",
       "      <td>...</td>\n",
       "      <td>...</td>\n",
       "      <td>...</td>\n",
       "      <td>...</td>\n",
       "      <td>...</td>\n",
       "      <td>...</td>\n",
       "      <td>...</td>\n",
       "      <td>...</td>\n",
       "      <td>...</td>\n",
       "      <td>...</td>\n",
       "    </tr>\n",
       "    <tr>\n",
       "      <th>10678</th>\n",
       "      <td>Air Asia</td>\n",
       "      <td>Kolkata</td>\n",
       "      <td>Banglore</td>\n",
       "      <td>19:55</td>\n",
       "      <td>22:25</td>\n",
       "      <td>non-stop</td>\n",
       "      <td>No info</td>\n",
       "      <td>4107</td>\n",
       "      <td>2019</td>\n",
       "      <td>9</td>\n",
       "      <td>4</td>\n",
       "    </tr>\n",
       "    <tr>\n",
       "      <th>10679</th>\n",
       "      <td>Air India</td>\n",
       "      <td>Kolkata</td>\n",
       "      <td>Banglore</td>\n",
       "      <td>20:45</td>\n",
       "      <td>23:20</td>\n",
       "      <td>non-stop</td>\n",
       "      <td>No info</td>\n",
       "      <td>4145</td>\n",
       "      <td>2019</td>\n",
       "      <td>4</td>\n",
       "      <td>27</td>\n",
       "    </tr>\n",
       "    <tr>\n",
       "      <th>10680</th>\n",
       "      <td>Jet Airways</td>\n",
       "      <td>Banglore</td>\n",
       "      <td>Delhi</td>\n",
       "      <td>08:20</td>\n",
       "      <td>11:20</td>\n",
       "      <td>non-stop</td>\n",
       "      <td>No info</td>\n",
       "      <td>7229</td>\n",
       "      <td>2019</td>\n",
       "      <td>4</td>\n",
       "      <td>27</td>\n",
       "    </tr>\n",
       "    <tr>\n",
       "      <th>10681</th>\n",
       "      <td>Vistara</td>\n",
       "      <td>Banglore</td>\n",
       "      <td>New Delhi</td>\n",
       "      <td>11:30</td>\n",
       "      <td>14:10</td>\n",
       "      <td>non-stop</td>\n",
       "      <td>No info</td>\n",
       "      <td>12648</td>\n",
       "      <td>2019</td>\n",
       "      <td>1</td>\n",
       "      <td>3</td>\n",
       "    </tr>\n",
       "    <tr>\n",
       "      <th>10682</th>\n",
       "      <td>Air India</td>\n",
       "      <td>Delhi</td>\n",
       "      <td>Cochin</td>\n",
       "      <td>10:55</td>\n",
       "      <td>19:15</td>\n",
       "      <td>2 stops</td>\n",
       "      <td>No info</td>\n",
       "      <td>11753</td>\n",
       "      <td>2019</td>\n",
       "      <td>9</td>\n",
       "      <td>5</td>\n",
       "    </tr>\n",
       "  </tbody>\n",
       "</table>\n",
       "<p>10683 rows × 11 columns</p>\n",
       "</div>"
      ],
      "text/plain": [
       "           Airline    Source Destination Dep_Time  Arrival_Time Total_Stops  \\\n",
       "0           IndiGo  Banglore   New Delhi    22:20  01:10 22 Mar    non-stop   \n",
       "1        Air India   Kolkata    Banglore    05:50         13:15     2 stops   \n",
       "2      Jet Airways     Delhi      Cochin    09:25  04:25 10 Jun     2 stops   \n",
       "3           IndiGo   Kolkata    Banglore    18:05         23:30      1 stop   \n",
       "4           IndiGo  Banglore   New Delhi    16:50         21:35      1 stop   \n",
       "...            ...       ...         ...      ...           ...         ...   \n",
       "10678     Air Asia   Kolkata    Banglore    19:55         22:25    non-stop   \n",
       "10679    Air India   Kolkata    Banglore    20:45         23:20    non-stop   \n",
       "10680  Jet Airways  Banglore       Delhi    08:20         11:20    non-stop   \n",
       "10681      Vistara  Banglore   New Delhi    11:30         14:10    non-stop   \n",
       "10682    Air India     Delhi      Cochin    10:55         19:15     2 stops   \n",
       "\n",
       "      Additional_Info  Price  Year_of_Journey  Month_of_Journey  \\\n",
       "0             No info   3897             2019                 3   \n",
       "1             No info   7662             2019                 1   \n",
       "2             No info  13882             2019                 9   \n",
       "3             No info   6218             2019                12   \n",
       "4             No info  13302             2019                 1   \n",
       "...               ...    ...              ...               ...   \n",
       "10678         No info   4107             2019                 9   \n",
       "10679         No info   4145             2019                 4   \n",
       "10680         No info   7229             2019                 4   \n",
       "10681         No info  12648             2019                 1   \n",
       "10682         No info  11753             2019                 9   \n",
       "\n",
       "       Day_of_Journey  \n",
       "0                  24  \n",
       "1                   5  \n",
       "2                   6  \n",
       "3                   5  \n",
       "4                   3  \n",
       "...               ...  \n",
       "10678               4  \n",
       "10679              27  \n",
       "10680              27  \n",
       "10681               3  \n",
       "10682               5  \n",
       "\n",
       "[10683 rows x 11 columns]"
      ]
     },
     "execution_count": 8,
     "metadata": {},
     "output_type": "execute_result"
    }
   ],
   "source": [
    "df"
   ]
  },
  {
   "cell_type": "code",
   "execution_count": 9,
   "id": "1c48f45d",
   "metadata": {},
   "outputs": [],
   "source": [
    "def preprocess2(df):\n",
    "    df['Dep_Hour'] = pd.to_datetime(df['Dep_Time']).dt.hour\n",
    "    df['Dep_Minute'] = pd.to_datetime(df['Dep_Time']).dt.minute\n",
    "    df=df.drop(['Dep_Time'], axis=1)\n",
    "    df['Arrival_Hour'] = pd.to_datetime(df['Arrival_Time']).dt.hour\n",
    "    df['Arrival_Minute'] = pd.to_datetime(df['Arrival_Time']).dt.minute\n",
    "    df=df.drop(['Arrival_Time'], axis=1)\n",
    "    return df"
   ]
  },
  {
   "cell_type": "code",
   "execution_count": 10,
   "id": "ac804b6e",
   "metadata": {},
   "outputs": [],
   "source": [
    "df = preprocess2(df)"
   ]
  },
  {
   "cell_type": "code",
   "execution_count": 11,
   "id": "b4090af4",
   "metadata": {},
   "outputs": [
    {
     "data": {
      "text/html": [
       "<div>\n",
       "<style scoped>\n",
       "    .dataframe tbody tr th:only-of-type {\n",
       "        vertical-align: middle;\n",
       "    }\n",
       "\n",
       "    .dataframe tbody tr th {\n",
       "        vertical-align: top;\n",
       "    }\n",
       "\n",
       "    .dataframe thead th {\n",
       "        text-align: right;\n",
       "    }\n",
       "</style>\n",
       "<table border=\"1\" class=\"dataframe\">\n",
       "  <thead>\n",
       "    <tr style=\"text-align: right;\">\n",
       "      <th></th>\n",
       "      <th>Airline</th>\n",
       "      <th>Source</th>\n",
       "      <th>Destination</th>\n",
       "      <th>Total_Stops</th>\n",
       "      <th>Additional_Info</th>\n",
       "      <th>Price</th>\n",
       "      <th>Year_of_Journey</th>\n",
       "      <th>Month_of_Journey</th>\n",
       "      <th>Day_of_Journey</th>\n",
       "      <th>Dep_Hour</th>\n",
       "      <th>Dep_Minute</th>\n",
       "      <th>Arrival_Hour</th>\n",
       "      <th>Arrival_Minute</th>\n",
       "    </tr>\n",
       "  </thead>\n",
       "  <tbody>\n",
       "    <tr>\n",
       "      <th>0</th>\n",
       "      <td>IndiGo</td>\n",
       "      <td>Banglore</td>\n",
       "      <td>New Delhi</td>\n",
       "      <td>non-stop</td>\n",
       "      <td>No info</td>\n",
       "      <td>3897</td>\n",
       "      <td>2019</td>\n",
       "      <td>3</td>\n",
       "      <td>24</td>\n",
       "      <td>22</td>\n",
       "      <td>20</td>\n",
       "      <td>1</td>\n",
       "      <td>10</td>\n",
       "    </tr>\n",
       "    <tr>\n",
       "      <th>1</th>\n",
       "      <td>Air India</td>\n",
       "      <td>Kolkata</td>\n",
       "      <td>Banglore</td>\n",
       "      <td>2 stops</td>\n",
       "      <td>No info</td>\n",
       "      <td>7662</td>\n",
       "      <td>2019</td>\n",
       "      <td>1</td>\n",
       "      <td>5</td>\n",
       "      <td>5</td>\n",
       "      <td>50</td>\n",
       "      <td>13</td>\n",
       "      <td>15</td>\n",
       "    </tr>\n",
       "    <tr>\n",
       "      <th>2</th>\n",
       "      <td>Jet Airways</td>\n",
       "      <td>Delhi</td>\n",
       "      <td>Cochin</td>\n",
       "      <td>2 stops</td>\n",
       "      <td>No info</td>\n",
       "      <td>13882</td>\n",
       "      <td>2019</td>\n",
       "      <td>9</td>\n",
       "      <td>6</td>\n",
       "      <td>9</td>\n",
       "      <td>25</td>\n",
       "      <td>4</td>\n",
       "      <td>25</td>\n",
       "    </tr>\n",
       "    <tr>\n",
       "      <th>3</th>\n",
       "      <td>IndiGo</td>\n",
       "      <td>Kolkata</td>\n",
       "      <td>Banglore</td>\n",
       "      <td>1 stop</td>\n",
       "      <td>No info</td>\n",
       "      <td>6218</td>\n",
       "      <td>2019</td>\n",
       "      <td>12</td>\n",
       "      <td>5</td>\n",
       "      <td>18</td>\n",
       "      <td>5</td>\n",
       "      <td>23</td>\n",
       "      <td>30</td>\n",
       "    </tr>\n",
       "    <tr>\n",
       "      <th>4</th>\n",
       "      <td>IndiGo</td>\n",
       "      <td>Banglore</td>\n",
       "      <td>New Delhi</td>\n",
       "      <td>1 stop</td>\n",
       "      <td>No info</td>\n",
       "      <td>13302</td>\n",
       "      <td>2019</td>\n",
       "      <td>1</td>\n",
       "      <td>3</td>\n",
       "      <td>16</td>\n",
       "      <td>50</td>\n",
       "      <td>21</td>\n",
       "      <td>35</td>\n",
       "    </tr>\n",
       "    <tr>\n",
       "      <th>...</th>\n",
       "      <td>...</td>\n",
       "      <td>...</td>\n",
       "      <td>...</td>\n",
       "      <td>...</td>\n",
       "      <td>...</td>\n",
       "      <td>...</td>\n",
       "      <td>...</td>\n",
       "      <td>...</td>\n",
       "      <td>...</td>\n",
       "      <td>...</td>\n",
       "      <td>...</td>\n",
       "      <td>...</td>\n",
       "      <td>...</td>\n",
       "    </tr>\n",
       "    <tr>\n",
       "      <th>10678</th>\n",
       "      <td>Air Asia</td>\n",
       "      <td>Kolkata</td>\n",
       "      <td>Banglore</td>\n",
       "      <td>non-stop</td>\n",
       "      <td>No info</td>\n",
       "      <td>4107</td>\n",
       "      <td>2019</td>\n",
       "      <td>9</td>\n",
       "      <td>4</td>\n",
       "      <td>19</td>\n",
       "      <td>55</td>\n",
       "      <td>22</td>\n",
       "      <td>25</td>\n",
       "    </tr>\n",
       "    <tr>\n",
       "      <th>10679</th>\n",
       "      <td>Air India</td>\n",
       "      <td>Kolkata</td>\n",
       "      <td>Banglore</td>\n",
       "      <td>non-stop</td>\n",
       "      <td>No info</td>\n",
       "      <td>4145</td>\n",
       "      <td>2019</td>\n",
       "      <td>4</td>\n",
       "      <td>27</td>\n",
       "      <td>20</td>\n",
       "      <td>45</td>\n",
       "      <td>23</td>\n",
       "      <td>20</td>\n",
       "    </tr>\n",
       "    <tr>\n",
       "      <th>10680</th>\n",
       "      <td>Jet Airways</td>\n",
       "      <td>Banglore</td>\n",
       "      <td>Delhi</td>\n",
       "      <td>non-stop</td>\n",
       "      <td>No info</td>\n",
       "      <td>7229</td>\n",
       "      <td>2019</td>\n",
       "      <td>4</td>\n",
       "      <td>27</td>\n",
       "      <td>8</td>\n",
       "      <td>20</td>\n",
       "      <td>11</td>\n",
       "      <td>20</td>\n",
       "    </tr>\n",
       "    <tr>\n",
       "      <th>10681</th>\n",
       "      <td>Vistara</td>\n",
       "      <td>Banglore</td>\n",
       "      <td>New Delhi</td>\n",
       "      <td>non-stop</td>\n",
       "      <td>No info</td>\n",
       "      <td>12648</td>\n",
       "      <td>2019</td>\n",
       "      <td>1</td>\n",
       "      <td>3</td>\n",
       "      <td>11</td>\n",
       "      <td>30</td>\n",
       "      <td>14</td>\n",
       "      <td>10</td>\n",
       "    </tr>\n",
       "    <tr>\n",
       "      <th>10682</th>\n",
       "      <td>Air India</td>\n",
       "      <td>Delhi</td>\n",
       "      <td>Cochin</td>\n",
       "      <td>2 stops</td>\n",
       "      <td>No info</td>\n",
       "      <td>11753</td>\n",
       "      <td>2019</td>\n",
       "      <td>9</td>\n",
       "      <td>5</td>\n",
       "      <td>10</td>\n",
       "      <td>55</td>\n",
       "      <td>19</td>\n",
       "      <td>15</td>\n",
       "    </tr>\n",
       "  </tbody>\n",
       "</table>\n",
       "<p>10683 rows × 13 columns</p>\n",
       "</div>"
      ],
      "text/plain": [
       "           Airline    Source Destination Total_Stops Additional_Info  Price  \\\n",
       "0           IndiGo  Banglore   New Delhi    non-stop         No info   3897   \n",
       "1        Air India   Kolkata    Banglore     2 stops         No info   7662   \n",
       "2      Jet Airways     Delhi      Cochin     2 stops         No info  13882   \n",
       "3           IndiGo   Kolkata    Banglore      1 stop         No info   6218   \n",
       "4           IndiGo  Banglore   New Delhi      1 stop         No info  13302   \n",
       "...            ...       ...         ...         ...             ...    ...   \n",
       "10678     Air Asia   Kolkata    Banglore    non-stop         No info   4107   \n",
       "10679    Air India   Kolkata    Banglore    non-stop         No info   4145   \n",
       "10680  Jet Airways  Banglore       Delhi    non-stop         No info   7229   \n",
       "10681      Vistara  Banglore   New Delhi    non-stop         No info  12648   \n",
       "10682    Air India     Delhi      Cochin     2 stops         No info  11753   \n",
       "\n",
       "       Year_of_Journey  Month_of_Journey  Day_of_Journey  Dep_Hour  \\\n",
       "0                 2019                 3              24        22   \n",
       "1                 2019                 1               5         5   \n",
       "2                 2019                 9               6         9   \n",
       "3                 2019                12               5        18   \n",
       "4                 2019                 1               3        16   \n",
       "...                ...               ...             ...       ...   \n",
       "10678             2019                 9               4        19   \n",
       "10679             2019                 4              27        20   \n",
       "10680             2019                 4              27         8   \n",
       "10681             2019                 1               3        11   \n",
       "10682             2019                 9               5        10   \n",
       "\n",
       "       Dep_Minute  Arrival_Hour  Arrival_Minute  \n",
       "0              20             1              10  \n",
       "1              50            13              15  \n",
       "2              25             4              25  \n",
       "3               5            23              30  \n",
       "4              50            21              35  \n",
       "...           ...           ...             ...  \n",
       "10678          55            22              25  \n",
       "10679          45            23              20  \n",
       "10680          20            11              20  \n",
       "10681          30            14              10  \n",
       "10682          55            19              15  \n",
       "\n",
       "[10683 rows x 13 columns]"
      ]
     },
     "execution_count": 11,
     "metadata": {},
     "output_type": "execute_result"
    }
   ],
   "source": [
    "df"
   ]
  },
  {
   "cell_type": "code",
   "execution_count": 12,
   "id": "954f97f6",
   "metadata": {},
   "outputs": [],
   "source": [
    "def countplot(x):\n",
    "    plt.figure(figsize=(12,10))\n",
    "    sns.countplot(x)\n",
    "    plt.xticks(rotation=90, fontsize=10)\n",
    "    plt.yticks(fontsize=10)\n",
    "    return plt.show()"
   ]
  },
  {
   "cell_type": "markdown",
   "id": "fd3efb3a",
   "metadata": {},
   "source": [
    "### Countplot of Airlines"
   ]
  },
  {
   "cell_type": "code",
   "execution_count": 13,
   "id": "e88e5a96",
   "metadata": {},
   "outputs": [
    {
     "data": {
      "image/png": "[encoded data removed]",
      "text/plain": [
       "<Figure size 864x720 with 1 Axes>"
      ]
     },
     "metadata": {
      "needs_background": "light"
     },
     "output_type": "display_data"
    }
   ],
   "source": [
    "countplot(df['Airline'])"
   ]
  },
  {
   "cell_type": "markdown",
   "id": "bcc0583e",
   "metadata": {},
   "source": [
    "## Obseravtion\n",
    "\n",
    "1- we can see that mostly people use to travel with **Jet Airways**\n",
    "\n",
    "2- After Jet Airways people use to travel with **IndiGo**\n",
    "\n",
    "3-And GoAir has the least count why i am saying least count because Vistara,Jet Airways,MCPE,Trujet has no count"
   ]
  },
  {
   "cell_type": "markdown",
   "id": "e5107ef5",
   "metadata": {},
   "source": [
    "### Countplot of Source"
   ]
  },
  {
   "cell_type": "code",
   "execution_count": 14,
   "id": "393908b8",
   "metadata": {},
   "outputs": [
    {
     "data": {
      "image/png": "[encoded data removed]",
      "text/plain": [
       "<Figure size 864x720 with 1 Axes>"
      ]
     },
     "metadata": {
      "needs_background": "light"
     },
     "output_type": "display_data"
    }
   ],
   "source": [
    "countplot(df['Source'])"
   ]
  },
  {
   "cell_type": "markdown",
   "id": "88948155",
   "metadata": {},
   "source": [
    "## Obseravtion\n",
    "\n",
    "1-We can see that mostly Source has Delhi as higher the others\n",
    "\n",
    "2- After Delhi kolkata has 2nd high count\n",
    "\n",
    "3-And at least chennai has very less people source is chennai"
   ]
  },
  {
   "cell_type": "markdown",
   "id": "42853222",
   "metadata": {},
   "source": [
    "### Countplot of Destination"
   ]
  },
  {
   "cell_type": "code",
   "execution_count": 15,
   "id": "c453f8a4",
   "metadata": {},
   "outputs": [
    {
     "data": {
      "image/png": "[encoded data removed]",
      "text/plain": [
       "<Figure size 864x720 with 1 Axes>"
      ]
     },
     "metadata": {
      "needs_background": "light"
     },
     "output_type": "display_data"
    }
   ],
   "source": [
    "countplot(df['Destination'])"
   ]
  },
  {
   "cell_type": "markdown",
   "id": "011678f5",
   "metadata": {},
   "source": [
    "## Obseravtion\n",
    "\n",
    "1-we can see that mostly people use to go Cochin as per the data shows\n",
    "\n",
    "2-After Cochin people use to go to Banglore\n",
    "\n",
    "3-And very less people use to go to Kolkata"
   ]
  },
  {
   "cell_type": "markdown",
   "id": "4cb0db59",
   "metadata": {},
   "source": [
    "### Countplot of Total_Stops"
   ]
  },
  {
   "cell_type": "code",
   "execution_count": 16,
   "id": "a0119d4e",
   "metadata": {},
   "outputs": [
    {
     "data": {
      "image/png": "[encoded data removed]",
      "text/plain": [
       "<Figure size 864x720 with 1 Axes>"
      ]
     },
     "metadata": {
      "needs_background": "light"
     },
     "output_type": "display_data"
    }
   ],
   "source": [
    "countplot(df['Total_Stops'])"
   ]
  },
  {
   "cell_type": "markdown",
   "id": "793faa9b",
   "metadata": {},
   "source": [
    "### Obseravtion\n",
    "\n",
    "1-We can see that mostly people use to take a flight who has only one stop\n",
    "\n",
    "2-After one stop people used to take non-stop flights\n",
    "\n",
    "3-ANd only approx 1500 people use to take 2 stop flights\n",
    "\n",
    "4-ANd there are very less people who used to take 3 stops or 4 stops flight"
   ]
  },
  {
   "cell_type": "markdown",
   "id": "1301ed13",
   "metadata": {},
   "source": [
    "### Countplot of Year_of_Journey"
   ]
  },
  {
   "cell_type": "code",
   "execution_count": 17,
   "id": "95a66c25",
   "metadata": {},
   "outputs": [
    {
     "data": {
      "image/png": "[encoded data removed]",
      "text/plain": [
       "<Figure size 864x720 with 1 Axes>"
      ]
     },
     "metadata": {
      "needs_background": "light"
     },
     "output_type": "display_data"
    }
   ],
   "source": [
    "countplot(df['Year_of_Journey'])"
   ]
  },
  {
   "cell_type": "markdown",
   "id": "d08217a7",
   "metadata": {},
   "source": [
    "### Observation\n",
    "\n",
    "1- We have only 2019 year data"
   ]
  },
  {
   "cell_type": "markdown",
   "id": "49b1ac60",
   "metadata": {},
   "source": [
    "### Countplot of Month_of_Journey"
   ]
  },
  {
   "cell_type": "code",
   "execution_count": 18,
   "id": "83875f73",
   "metadata": {},
   "outputs": [
    {
     "data": {
      "image/png": "[encoded data removed]",
      "text/plain": [
       "<Figure size 864x720 with 1 Axes>"
      ]
     },
     "metadata": {
      "needs_background": "light"
     },
     "output_type": "display_data"
    }
   ],
   "source": [
    "countplot(df['Month_of_Journey'])"
   ]
  },
  {
   "cell_type": "markdown",
   "id": "a56633a3",
   "metadata": {},
   "source": [
    "## Obseravtion\n",
    "\n",
    "1-From above graph i can say that mostly people use to take flights in 6th month maybe because children holiday start in 3rd month thats why 3rd month has the 2nd high count so holidays ends in 5th or 6th month so parents with child used to return there home or to school thats why 5th month also has the 3rd high count\n",
    "\n",
    "2-and 4th has the least count because people use to take less flight in 4th month may be becouse financial year closing\n",
    "\n",
    "3-And in 12th and 9th month people also use to take less flight or used to travel less as compare to 6th,5th and 3rd month"
   ]
  },
  {
   "cell_type": "markdown",
   "id": "3d14e7ba",
   "metadata": {},
   "source": [
    "### Countplot of Additional_Info"
   ]
  },
  {
   "cell_type": "code",
   "execution_count": 19,
   "id": "1b7197a5",
   "metadata": {},
   "outputs": [
    {
     "data": {
      "image/png": "[encoded data removed]",
      "text/plain": [
       "<Figure size 864x720 with 1 Axes>"
      ]
     },
     "metadata": {
      "needs_background": "light"
     },
     "output_type": "display_data"
    }
   ],
   "source": [
    "countplot(df['Additional_Info'])"
   ]
  },
  {
   "cell_type": "markdown",
   "id": "b84c3684",
   "metadata": {},
   "source": [
    "## Obseravtion \n",
    "\n",
    "1-From above graph i can say that mostly information that is available is no_info\n",
    "\n",
    "2-and approx 2k people have problem with no meal is included in flight this problem may occur because people have booked a cheap flight still they want meal which is not possible\n",
    "\n",
    "3-people have also said that there is no check in baggage included"
   ]
  },
  {
   "cell_type": "code",
   "execution_count": 20,
   "id": "a50fb36e",
   "metadata": {},
   "outputs": [
    {
     "data": {
      "text/plain": [
       "(array([ 4000.,  5000.,  6000.,  7000.,  8000.,  9000., 10000., 11000.,\n",
       "        12000.]),\n",
       " [Text(0, 0, ''),\n",
       "  Text(0, 0, ''),\n",
       "  Text(0, 0, ''),\n",
       "  Text(0, 0, ''),\n",
       "  Text(0, 0, ''),\n",
       "  Text(0, 0, ''),\n",
       "  Text(0, 0, ''),\n",
       "  Text(0, 0, ''),\n",
       "  Text(0, 0, '')])"
      ]
     },
     "execution_count": 20,
     "metadata": {},
     "output_type": "execute_result"
    },
    {
     "data": {
      "image/png": "[encoded data removed]",
      "text/plain": [
       "<Figure size 1440x720 with 1 Axes>"
      ]
     },
     "metadata": {
      "needs_background": "light"
     },
     "output_type": "display_data"
    }
   ],
   "source": [
    "plt.figure(figsize=(20,10))\n",
    "sns.lineplot(x='Month_of_Journey', y='Price', data=df)\n",
    "plt.title('Price of flight vs Months')\n",
    "plt.xticks(fontsize=10)\n",
    "plt.yticks(fontsize=10)"
   ]
  },
  {
   "cell_type": "code",
   "execution_count": 21,
   "id": "01b707a1",
   "metadata": {},
   "outputs": [
    {
     "data": {
      "text/plain": [
       "<AxesSubplot:xlabel='Month_of_Journey', ylabel='count'>"
      ]
     },
     "execution_count": 21,
     "metadata": {},
     "output_type": "execute_result"
    },
    {
     "data": {
      "image/png": "[encoded data removed]",
      "text/plain": [
       "<Figure size 1440x1296 with 1 Axes>"
      ]
     },
     "metadata": {
      "needs_background": "light"
     },
     "output_type": "display_data"
    }
   ],
   "source": [
    "plt.figure(figsize=(20,18))\n",
    "sns.countplot('Month_of_Journey', hue='Airline', data=df, palette='dark')"
   ]
  },
  {
   "cell_type": "markdown",
   "id": "1b77d5fa",
   "metadata": {},
   "source": [
    "### Observation\n",
    "\n",
    "1- From above graph we can see that in the year of 2019 mostly people used to travel in jet airways may be becouse jet airways gives good offers to customers.\n",
    "\n",
    "2 - After jet airways mostly people used IndiGo."
   ]
  },
  {
   "cell_type": "code",
   "execution_count": 22,
   "id": "2bad43f3",
   "metadata": {},
   "outputs": [
    {
     "data": {
      "text/plain": [
       "(array([    0., 10000., 20000., 30000., 40000., 50000., 60000., 70000.,\n",
       "        80000.]),\n",
       " [Text(0, 0, ''),\n",
       "  Text(0, 0, ''),\n",
       "  Text(0, 0, ''),\n",
       "  Text(0, 0, ''),\n",
       "  Text(0, 0, ''),\n",
       "  Text(0, 0, ''),\n",
       "  Text(0, 0, ''),\n",
       "  Text(0, 0, ''),\n",
       "  Text(0, 0, '')])"
      ]
     },
     "execution_count": 22,
     "metadata": {},
     "output_type": "execute_result"
    },
    {
     "data": {
      "image/png": "[encoded data removed]",
      "text/plain": [
       "<Figure size 2160x1080 with 1 Axes>"
      ]
     },
     "metadata": {
      "needs_background": "light"
     },
     "output_type": "display_data"
    }
   ],
   "source": [
    "plt.figure(figsize=(30,15))\n",
    "sns.barplot(x='Airline', y='Price', data=df)\n",
    "plt.title('Flight Fare Airline wise')\n",
    "plt.xticks(rotation=90,fontsize=18)\n",
    "plt.yticks(fontsize=18)"
   ]
  },
  {
   "cell_type": "markdown",
   "id": "f962cb1d",
   "metadata": {},
   "source": [
    "### Obseravtion\n",
    "\n",
    "1-From above graph i can say that Jet Airways Business has the highest price\n",
    "\n",
    "2-and spicejet,Indigo,GoAIr,Air Asia is cheap for travel\n",
    "\n",
    "3-Jet Airways ,Mutiple carriers,Air India have medium price nor high neither low price"
   ]
  },
  {
   "cell_type": "code",
   "execution_count": 23,
   "id": "04a5998d",
   "metadata": {},
   "outputs": [
    {
     "data": {
      "text/html": [
       "<div>\n",
       "<style scoped>\n",
       "    .dataframe tbody tr th:only-of-type {\n",
       "        vertical-align: middle;\n",
       "    }\n",
       "\n",
       "    .dataframe tbody tr th {\n",
       "        vertical-align: top;\n",
       "    }\n",
       "\n",
       "    .dataframe thead th {\n",
       "        text-align: right;\n",
       "    }\n",
       "</style>\n",
       "<table border=\"1\" class=\"dataframe\">\n",
       "  <thead>\n",
       "    <tr style=\"text-align: right;\">\n",
       "      <th></th>\n",
       "      <th>Airline</th>\n",
       "      <th>Source</th>\n",
       "      <th>Destination</th>\n",
       "      <th>Total_Stops</th>\n",
       "      <th>Additional_Info</th>\n",
       "      <th>Price</th>\n",
       "      <th>Year_of_Journey</th>\n",
       "      <th>Month_of_Journey</th>\n",
       "      <th>Day_of_Journey</th>\n",
       "      <th>Dep_Hour</th>\n",
       "      <th>Dep_Minute</th>\n",
       "      <th>Arrival_Hour</th>\n",
       "      <th>Arrival_Minute</th>\n",
       "    </tr>\n",
       "  </thead>\n",
       "  <tbody>\n",
       "    <tr>\n",
       "      <th>0</th>\n",
       "      <td>IndiGo</td>\n",
       "      <td>Banglore</td>\n",
       "      <td>New Delhi</td>\n",
       "      <td>non-stop</td>\n",
       "      <td>No info</td>\n",
       "      <td>3897</td>\n",
       "      <td>2019</td>\n",
       "      <td>3</td>\n",
       "      <td>24</td>\n",
       "      <td>22</td>\n",
       "      <td>20</td>\n",
       "      <td>1</td>\n",
       "      <td>10</td>\n",
       "    </tr>\n",
       "    <tr>\n",
       "      <th>1</th>\n",
       "      <td>Air India</td>\n",
       "      <td>Kolkata</td>\n",
       "      <td>Banglore</td>\n",
       "      <td>2 stops</td>\n",
       "      <td>No info</td>\n",
       "      <td>7662</td>\n",
       "      <td>2019</td>\n",
       "      <td>1</td>\n",
       "      <td>5</td>\n",
       "      <td>5</td>\n",
       "      <td>50</td>\n",
       "      <td>13</td>\n",
       "      <td>15</td>\n",
       "    </tr>\n",
       "    <tr>\n",
       "      <th>2</th>\n",
       "      <td>Jet Airways</td>\n",
       "      <td>Delhi</td>\n",
       "      <td>Cochin</td>\n",
       "      <td>2 stops</td>\n",
       "      <td>No info</td>\n",
       "      <td>13882</td>\n",
       "      <td>2019</td>\n",
       "      <td>9</td>\n",
       "      <td>6</td>\n",
       "      <td>9</td>\n",
       "      <td>25</td>\n",
       "      <td>4</td>\n",
       "      <td>25</td>\n",
       "    </tr>\n",
       "    <tr>\n",
       "      <th>3</th>\n",
       "      <td>IndiGo</td>\n",
       "      <td>Kolkata</td>\n",
       "      <td>Banglore</td>\n",
       "      <td>1 stop</td>\n",
       "      <td>No info</td>\n",
       "      <td>6218</td>\n",
       "      <td>2019</td>\n",
       "      <td>12</td>\n",
       "      <td>5</td>\n",
       "      <td>18</td>\n",
       "      <td>5</td>\n",
       "      <td>23</td>\n",
       "      <td>30</td>\n",
       "    </tr>\n",
       "    <tr>\n",
       "      <th>4</th>\n",
       "      <td>IndiGo</td>\n",
       "      <td>Banglore</td>\n",
       "      <td>New Delhi</td>\n",
       "      <td>1 stop</td>\n",
       "      <td>No info</td>\n",
       "      <td>13302</td>\n",
       "      <td>2019</td>\n",
       "      <td>1</td>\n",
       "      <td>3</td>\n",
       "      <td>16</td>\n",
       "      <td>50</td>\n",
       "      <td>21</td>\n",
       "      <td>35</td>\n",
       "    </tr>\n",
       "    <tr>\n",
       "      <th>...</th>\n",
       "      <td>...</td>\n",
       "      <td>...</td>\n",
       "      <td>...</td>\n",
       "      <td>...</td>\n",
       "      <td>...</td>\n",
       "      <td>...</td>\n",
       "      <td>...</td>\n",
       "      <td>...</td>\n",
       "      <td>...</td>\n",
       "      <td>...</td>\n",
       "      <td>...</td>\n",
       "      <td>...</td>\n",
       "      <td>...</td>\n",
       "    </tr>\n",
       "    <tr>\n",
       "      <th>10678</th>\n",
       "      <td>Air Asia</td>\n",
       "      <td>Kolkata</td>\n",
       "      <td>Banglore</td>\n",
       "      <td>non-stop</td>\n",
       "      <td>No info</td>\n",
       "      <td>4107</td>\n",
       "      <td>2019</td>\n",
       "      <td>9</td>\n",
       "      <td>4</td>\n",
       "      <td>19</td>\n",
       "      <td>55</td>\n",
       "      <td>22</td>\n",
       "      <td>25</td>\n",
       "    </tr>\n",
       "    <tr>\n",
       "      <th>10679</th>\n",
       "      <td>Air India</td>\n",
       "      <td>Kolkata</td>\n",
       "      <td>Banglore</td>\n",
       "      <td>non-stop</td>\n",
       "      <td>No info</td>\n",
       "      <td>4145</td>\n",
       "      <td>2019</td>\n",
       "      <td>4</td>\n",
       "      <td>27</td>\n",
       "      <td>20</td>\n",
       "      <td>45</td>\n",
       "      <td>23</td>\n",
       "      <td>20</td>\n",
       "    </tr>\n",
       "    <tr>\n",
       "      <th>10680</th>\n",
       "      <td>Jet Airways</td>\n",
       "      <td>Banglore</td>\n",
       "      <td>Delhi</td>\n",
       "      <td>non-stop</td>\n",
       "      <td>No info</td>\n",
       "      <td>7229</td>\n",
       "      <td>2019</td>\n",
       "      <td>4</td>\n",
       "      <td>27</td>\n",
       "      <td>8</td>\n",
       "      <td>20</td>\n",
       "      <td>11</td>\n",
       "      <td>20</td>\n",
       "    </tr>\n",
       "    <tr>\n",
       "      <th>10681</th>\n",
       "      <td>Vistara</td>\n",
       "      <td>Banglore</td>\n",
       "      <td>New Delhi</td>\n",
       "      <td>non-stop</td>\n",
       "      <td>No info</td>\n",
       "      <td>12648</td>\n",
       "      <td>2019</td>\n",
       "      <td>1</td>\n",
       "      <td>3</td>\n",
       "      <td>11</td>\n",
       "      <td>30</td>\n",
       "      <td>14</td>\n",
       "      <td>10</td>\n",
       "    </tr>\n",
       "    <tr>\n",
       "      <th>10682</th>\n",
       "      <td>Air India</td>\n",
       "      <td>Delhi</td>\n",
       "      <td>Cochin</td>\n",
       "      <td>2 stops</td>\n",
       "      <td>No info</td>\n",
       "      <td>11753</td>\n",
       "      <td>2019</td>\n",
       "      <td>9</td>\n",
       "      <td>5</td>\n",
       "      <td>10</td>\n",
       "      <td>55</td>\n",
       "      <td>19</td>\n",
       "      <td>15</td>\n",
       "    </tr>\n",
       "  </tbody>\n",
       "</table>\n",
       "<p>10683 rows × 13 columns</p>\n",
       "</div>"
      ],
      "text/plain": [
       "           Airline    Source Destination Total_Stops Additional_Info  Price  \\\n",
       "0           IndiGo  Banglore   New Delhi    non-stop         No info   3897   \n",
       "1        Air India   Kolkata    Banglore     2 stops         No info   7662   \n",
       "2      Jet Airways     Delhi      Cochin     2 stops         No info  13882   \n",
       "3           IndiGo   Kolkata    Banglore      1 stop         No info   6218   \n",
       "4           IndiGo  Banglore   New Delhi      1 stop         No info  13302   \n",
       "...            ...       ...         ...         ...             ...    ...   \n",
       "10678     Air Asia   Kolkata    Banglore    non-stop         No info   4107   \n",
       "10679    Air India   Kolkata    Banglore    non-stop         No info   4145   \n",
       "10680  Jet Airways  Banglore       Delhi    non-stop         No info   7229   \n",
       "10681      Vistara  Banglore   New Delhi    non-stop         No info  12648   \n",
       "10682    Air India     Delhi      Cochin     2 stops         No info  11753   \n",
       "\n",
       "       Year_of_Journey  Month_of_Journey  Day_of_Journey  Dep_Hour  \\\n",
       "0                 2019                 3              24        22   \n",
       "1                 2019                 1               5         5   \n",
       "2                 2019                 9               6         9   \n",
       "3                 2019                12               5        18   \n",
       "4                 2019                 1               3        16   \n",
       "...                ...               ...             ...       ...   \n",
       "10678             2019                 9               4        19   \n",
       "10679             2019                 4              27        20   \n",
       "10680             2019                 4              27         8   \n",
       "10681             2019                 1               3        11   \n",
       "10682             2019                 9               5        10   \n",
       "\n",
       "       Dep_Minute  Arrival_Hour  Arrival_Minute  \n",
       "0              20             1              10  \n",
       "1              50            13              15  \n",
       "2              25             4              25  \n",
       "3               5            23              30  \n",
       "4              50            21              35  \n",
       "...           ...           ...             ...  \n",
       "10678          55            22              25  \n",
       "10679          45            23              20  \n",
       "10680          20            11              20  \n",
       "10681          30            14              10  \n",
       "10682          55            19              15  \n",
       "\n",
       "[10683 rows x 13 columns]"
      ]
     },
     "execution_count": 23,
     "metadata": {},
     "output_type": "execute_result"
    }
   ],
   "source": [
    "df"
   ]
  },
  {
   "cell_type": "markdown",
   "id": "a6758c20",
   "metadata": {},
   "source": [
    "# Feature Transformation"
   ]
  },
  {
   "cell_type": "code",
   "execution_count": 24,
   "id": "415f9bd0",
   "metadata": {},
   "outputs": [],
   "source": [
    "oe = OrdinalEncoder()\n",
    "def ordinal_encoder(df,col):\n",
    "    df[col] = oe.fit_transform(df[col])\n",
    "    return df"
   ]
  },
  {
   "cell_type": "markdown",
   "id": "f7c7972b",
   "metadata": {},
   "source": [
    "**Using ordinal encoder because i have features who have values in order**"
   ]
  },
  {
   "cell_type": "code",
   "execution_count": 25,
   "id": "8d09783d",
   "metadata": {},
   "outputs": [],
   "source": [
    "df=ordinal_encoder(df,['Airline','Source','Destination','Total_Stops','Additional_Info'])"
   ]
  },
  {
   "cell_type": "markdown",
   "id": "803efcf0",
   "metadata": {},
   "source": [
    "# Spliting data into dependent and independent variable"
   ]
  },
  {
   "cell_type": "code",
   "execution_count": 26,
   "id": "b7a6dad5",
   "metadata": {},
   "outputs": [],
   "source": [
    "def preprocess3(df):\n",
    "    df=df.copy()\n",
    "    X=df.drop(['Price'], axis=1)\n",
    "    y=df['Price']\n",
    "    return X,y"
   ]
  },
  {
   "cell_type": "code",
   "execution_count": 27,
   "id": "5900dac7",
   "metadata": {},
   "outputs": [],
   "source": [
    "X,y=preprocess3(df)"
   ]
  },
  {
   "cell_type": "code",
   "execution_count": 28,
   "id": "bf0cbe4c",
   "metadata": {},
   "outputs": [
    {
     "data": {
      "text/html": [
       "<div>\n",
       "<style scoped>\n",
       "    .dataframe tbody tr th:only-of-type {\n",
       "        vertical-align: middle;\n",
       "    }\n",
       "\n",
       "    .dataframe tbody tr th {\n",
       "        vertical-align: top;\n",
       "    }\n",
       "\n",
       "    .dataframe thead th {\n",
       "        text-align: right;\n",
       "    }\n",
       "</style>\n",
       "<table border=\"1\" class=\"dataframe\">\n",
       "  <thead>\n",
       "    <tr style=\"text-align: right;\">\n",
       "      <th></th>\n",
       "      <th>Airline</th>\n",
       "      <th>Source</th>\n",
       "      <th>Destination</th>\n",
       "      <th>Total_Stops</th>\n",
       "      <th>Additional_Info</th>\n",
       "      <th>Year_of_Journey</th>\n",
       "      <th>Month_of_Journey</th>\n",
       "      <th>Day_of_Journey</th>\n",
       "      <th>Dep_Hour</th>\n",
       "      <th>Dep_Minute</th>\n",
       "      <th>Arrival_Hour</th>\n",
       "      <th>Arrival_Minute</th>\n",
       "    </tr>\n",
       "  </thead>\n",
       "  <tbody>\n",
       "    <tr>\n",
       "      <th>0</th>\n",
       "      <td>3.0</td>\n",
       "      <td>0.0</td>\n",
       "      <td>5.0</td>\n",
       "      <td>4.0</td>\n",
       "      <td>8.0</td>\n",
       "      <td>2019</td>\n",
       "      <td>3</td>\n",
       "      <td>24</td>\n",
       "      <td>22</td>\n",
       "      <td>20</td>\n",
       "      <td>1</td>\n",
       "      <td>10</td>\n",
       "    </tr>\n",
       "    <tr>\n",
       "      <th>1</th>\n",
       "      <td>1.0</td>\n",
       "      <td>3.0</td>\n",
       "      <td>0.0</td>\n",
       "      <td>1.0</td>\n",
       "      <td>8.0</td>\n",
       "      <td>2019</td>\n",
       "      <td>1</td>\n",
       "      <td>5</td>\n",
       "      <td>5</td>\n",
       "      <td>50</td>\n",
       "      <td>13</td>\n",
       "      <td>15</td>\n",
       "    </tr>\n",
       "    <tr>\n",
       "      <th>2</th>\n",
       "      <td>4.0</td>\n",
       "      <td>2.0</td>\n",
       "      <td>1.0</td>\n",
       "      <td>1.0</td>\n",
       "      <td>8.0</td>\n",
       "      <td>2019</td>\n",
       "      <td>9</td>\n",
       "      <td>6</td>\n",
       "      <td>9</td>\n",
       "      <td>25</td>\n",
       "      <td>4</td>\n",
       "      <td>25</td>\n",
       "    </tr>\n",
       "    <tr>\n",
       "      <th>3</th>\n",
       "      <td>3.0</td>\n",
       "      <td>3.0</td>\n",
       "      <td>0.0</td>\n",
       "      <td>0.0</td>\n",
       "      <td>8.0</td>\n",
       "      <td>2019</td>\n",
       "      <td>12</td>\n",
       "      <td>5</td>\n",
       "      <td>18</td>\n",
       "      <td>5</td>\n",
       "      <td>23</td>\n",
       "      <td>30</td>\n",
       "    </tr>\n",
       "    <tr>\n",
       "      <th>4</th>\n",
       "      <td>3.0</td>\n",
       "      <td>0.0</td>\n",
       "      <td>5.0</td>\n",
       "      <td>0.0</td>\n",
       "      <td>8.0</td>\n",
       "      <td>2019</td>\n",
       "      <td>1</td>\n",
       "      <td>3</td>\n",
       "      <td>16</td>\n",
       "      <td>50</td>\n",
       "      <td>21</td>\n",
       "      <td>35</td>\n",
       "    </tr>\n",
       "    <tr>\n",
       "      <th>...</th>\n",
       "      <td>...</td>\n",
       "      <td>...</td>\n",
       "      <td>...</td>\n",
       "      <td>...</td>\n",
       "      <td>...</td>\n",
       "      <td>...</td>\n",
       "      <td>...</td>\n",
       "      <td>...</td>\n",
       "      <td>...</td>\n",
       "      <td>...</td>\n",
       "      <td>...</td>\n",
       "      <td>...</td>\n",
       "    </tr>\n",
       "    <tr>\n",
       "      <th>10678</th>\n",
       "      <td>0.0</td>\n",
       "      <td>3.0</td>\n",
       "      <td>0.0</td>\n",
       "      <td>4.0</td>\n",
       "      <td>8.0</td>\n",
       "      <td>2019</td>\n",
       "      <td>9</td>\n",
       "      <td>4</td>\n",
       "      <td>19</td>\n",
       "      <td>55</td>\n",
       "      <td>22</td>\n",
       "      <td>25</td>\n",
       "    </tr>\n",
       "    <tr>\n",
       "      <th>10679</th>\n",
       "      <td>1.0</td>\n",
       "      <td>3.0</td>\n",
       "      <td>0.0</td>\n",
       "      <td>4.0</td>\n",
       "      <td>8.0</td>\n",
       "      <td>2019</td>\n",
       "      <td>4</td>\n",
       "      <td>27</td>\n",
       "      <td>20</td>\n",
       "      <td>45</td>\n",
       "      <td>23</td>\n",
       "      <td>20</td>\n",
       "    </tr>\n",
       "    <tr>\n",
       "      <th>10680</th>\n",
       "      <td>4.0</td>\n",
       "      <td>0.0</td>\n",
       "      <td>2.0</td>\n",
       "      <td>4.0</td>\n",
       "      <td>8.0</td>\n",
       "      <td>2019</td>\n",
       "      <td>4</td>\n",
       "      <td>27</td>\n",
       "      <td>8</td>\n",
       "      <td>20</td>\n",
       "      <td>11</td>\n",
       "      <td>20</td>\n",
       "    </tr>\n",
       "    <tr>\n",
       "      <th>10681</th>\n",
       "      <td>10.0</td>\n",
       "      <td>0.0</td>\n",
       "      <td>5.0</td>\n",
       "      <td>4.0</td>\n",
       "      <td>8.0</td>\n",
       "      <td>2019</td>\n",
       "      <td>1</td>\n",
       "      <td>3</td>\n",
       "      <td>11</td>\n",
       "      <td>30</td>\n",
       "      <td>14</td>\n",
       "      <td>10</td>\n",
       "    </tr>\n",
       "    <tr>\n",
       "      <th>10682</th>\n",
       "      <td>1.0</td>\n",
       "      <td>2.0</td>\n",
       "      <td>1.0</td>\n",
       "      <td>1.0</td>\n",
       "      <td>8.0</td>\n",
       "      <td>2019</td>\n",
       "      <td>9</td>\n",
       "      <td>5</td>\n",
       "      <td>10</td>\n",
       "      <td>55</td>\n",
       "      <td>19</td>\n",
       "      <td>15</td>\n",
       "    </tr>\n",
       "  </tbody>\n",
       "</table>\n",
       "<p>10683 rows × 12 columns</p>\n",
       "</div>"
      ],
      "text/plain": [
       "       Airline  Source  Destination  Total_Stops  Additional_Info  \\\n",
       "0          3.0     0.0          5.0          4.0              8.0   \n",
       "1          1.0     3.0          0.0          1.0              8.0   \n",
       "2          4.0     2.0          1.0          1.0              8.0   \n",
       "3          3.0     3.0          0.0          0.0              8.0   \n",
       "4          3.0     0.0          5.0          0.0              8.0   \n",
       "...        ...     ...          ...          ...              ...   \n",
       "10678      0.0     3.0          0.0          4.0              8.0   \n",
       "10679      1.0     3.0          0.0          4.0              8.0   \n",
       "10680      4.0     0.0          2.0          4.0              8.0   \n",
       "10681     10.0     0.0          5.0          4.0              8.0   \n",
       "10682      1.0     2.0          1.0          1.0              8.0   \n",
       "\n",
       "       Year_of_Journey  Month_of_Journey  Day_of_Journey  Dep_Hour  \\\n",
       "0                 2019                 3              24        22   \n",
       "1                 2019                 1               5         5   \n",
       "2                 2019                 9               6         9   \n",
       "3                 2019                12               5        18   \n",
       "4                 2019                 1               3        16   \n",
       "...                ...               ...             ...       ...   \n",
       "10678             2019                 9               4        19   \n",
       "10679             2019                 4              27        20   \n",
       "10680             2019                 4              27         8   \n",
       "10681             2019                 1               3        11   \n",
       "10682             2019                 9               5        10   \n",
       "\n",
       "       Dep_Minute  Arrival_Hour  Arrival_Minute  \n",
       "0              20             1              10  \n",
       "1              50            13              15  \n",
       "2              25             4              25  \n",
       "3               5            23              30  \n",
       "4              50            21              35  \n",
       "...           ...           ...             ...  \n",
       "10678          55            22              25  \n",
       "10679          45            23              20  \n",
       "10680          20            11              20  \n",
       "10681          30            14              10  \n",
       "10682          55            19              15  \n",
       "\n",
       "[10683 rows x 12 columns]"
      ]
     },
     "execution_count": 28,
     "metadata": {},
     "output_type": "execute_result"
    }
   ],
   "source": [
    "X"
   ]
  },
  {
   "cell_type": "code",
   "execution_count": 29,
   "id": "84809404",
   "metadata": {},
   "outputs": [
    {
     "data": {
      "text/plain": [
       "0         3897\n",
       "1         7662\n",
       "2        13882\n",
       "3         6218\n",
       "4        13302\n",
       "         ...  \n",
       "10678     4107\n",
       "10679     4145\n",
       "10680     7229\n",
       "10681    12648\n",
       "10682    11753\n",
       "Name: Price, Length: 10683, dtype: int64"
      ]
     },
     "execution_count": 29,
     "metadata": {},
     "output_type": "execute_result"
    }
   ],
   "source": [
    "y"
   ]
  },
  {
   "cell_type": "code",
   "execution_count": 30,
   "id": "2066c68a",
   "metadata": {},
   "outputs": [],
   "source": [
    "X = X.drop(['Year_of_Journey'], axis=1)    #Dropping this column because it has only one value that is 2019"
   ]
  },
  {
   "cell_type": "code",
   "execution_count": 31,
   "id": "7c52d1d3",
   "metadata": {},
   "outputs": [],
   "source": [
    "X_train,X_test,y_train,y_test=train_test_split(X,y,test_size=0.3,random_state=42)"
   ]
  },
  {
   "cell_type": "code",
   "execution_count": 32,
   "id": "e6806375",
   "metadata": {},
   "outputs": [
    {
     "data": {
      "text/plain": [
       "<AxesSubplot:>"
      ]
     },
     "execution_count": 32,
     "metadata": {},
     "output_type": "execute_result"
    },
    {
     "data": {
      "image/png": "[encoded data removed]",
      "text/plain": [
       "<Figure size 864x576 with 2 Axes>"
      ]
     },
     "metadata": {
      "needs_background": "light"
     },
     "output_type": "display_data"
    }
   ],
   "source": [
    "X_corr=X.corr()\n",
    "plt.figure(figsize=(12,8))\n",
    "sns.heatmap(X_corr, annot=True)"
   ]
  },
  {
   "cell_type": "markdown",
   "id": "a7838741",
   "metadata": {},
   "source": [
    "## Obseravtion\n",
    "\n",
    "From above graph i can say that most of the columns are having less correlation because most of every column is categorical and through this correlation we can only find correlation with numerical data"
   ]
  },
  {
   "cell_type": "markdown",
   "id": "62a31f36",
   "metadata": {},
   "source": [
    "### Checking Outliers"
   ]
  },
  {
   "cell_type": "code",
   "execution_count": 33,
   "id": "ef13005b",
   "metadata": {},
   "outputs": [
    {
     "data": {
      "image/png": "[encoded data removed]",
      "text/plain": [
       "<Figure size 864x1440 with 11 Axes>"
      ]
     },
     "metadata": {
      "needs_background": "light"
     },
     "output_type": "display_data"
    }
   ],
   "source": [
    "X_val=X.columns.values\n",
    "plt.figure(figsize=(12,20))\n",
    "for i in range(len(X_val)):\n",
    "    plt.subplot(10,3,i+1)\n",
    "    sns.boxplot(X[X_val[i]], orient='horizonal')\n",
    "    plt.tight_layout()"
   ]
  },
  {
   "cell_type": "markdown",
   "id": "0e252d72",
   "metadata": {},
   "source": [
    "# Obseravtion\n",
    "\n",
    "There is no outliers becouse every column is categorical we dont have any continuous column in X"
   ]
  },
  {
   "cell_type": "markdown",
   "id": "4ea03aaf",
   "metadata": {},
   "source": [
    "## Checking SKewness"
   ]
  },
  {
   "cell_type": "code",
   "execution_count": 34,
   "id": "5bc5ccca",
   "metadata": {},
   "outputs": [
    {
     "data": {
      "text/plain": [
       "Airline             0.731095\n",
       "Source             -0.424054\n",
       "Destination         1.244169\n",
       "Total_Stops         0.631681\n",
       "Additional_Info    -1.779838\n",
       "Month_of_Journey    0.629540\n",
       "Day_of_Journey      0.367373\n",
       "Dep_Hour            0.113073\n",
       "Dep_Minute          0.167029\n",
       "Arrival_Hour       -0.369988\n",
       "Arrival_Minute      0.110945\n",
       "dtype: float64"
      ]
     },
     "execution_count": 34,
     "metadata": {},
     "output_type": "execute_result"
    }
   ],
   "source": [
    "X.skew()"
   ]
  },
  {
   "cell_type": "markdown",
   "id": "fb72bc99",
   "metadata": {},
   "source": [
    "# Obseravtion \n",
    "\n",
    "There is no skewness because every column is categorical we don't remove skewness of categorical column"
   ]
  },
  {
   "cell_type": "markdown",
   "id": "7f2c1cf0",
   "metadata": {},
   "source": [
    "# NOTE-\n",
    "\n",
    "I am not using scaling my features because i am not having any continuous feature in X means in independent feature so my every feature is categorical so no need to scale the features"
   ]
  },
  {
   "cell_type": "markdown",
   "id": "3eac4a33",
   "metadata": {},
   "source": [
    "# Training Multiple models"
   ]
  },
  {
   "cell_type": "code",
   "execution_count": 35,
   "id": "8620e78c",
   "metadata": {},
   "outputs": [],
   "source": [
    "models={\n",
    "    \"XGB Regressor\":XGBRegressor(),\n",
    "    \"ExtraTrees Regressor\":ExtraTreesRegressor(),\n",
    "    \"RandomForest Regressor\":RandomForestRegressor(),\n",
    "    \"Linear Regression\":LinearRegression(),\n",
    "    \"DecisionTree Regressor\":DecisionTreeRegressor(),\n",
    "    \"Lasso\":Lasso(),\n",
    "    \"LIGHT GBM\":LGBMRegressor()\n",
    "}"
   ]
  },
  {
   "cell_type": "code",
   "execution_count": 36,
   "id": "10798f05",
   "metadata": {
    "scrolled": false
   },
   "outputs": [
    {
     "name": "stdout",
     "output_type": "stream",
     "text": [
      "__  ______ ____    ____                                         \n",
      "\\ \\/ / ___| __ )  |  _ \\ ___  __ _ _ __ ___  ___ ___  ___  _ __ \n",
      " \\  / |  _|  _ \\  | |_) / _ \\/ _` | '__/ _ \\/ __/ __|/ _ \\| '__|\n",
      " /  \\ |_| | |_) | |  _ <  __/ (_| | | |  __/\\__ \\__ \\ (_) | |   \n",
      "/_/\\_\\____|____/  |_| \\_\\___|\\__, |_|  \\___||___/___/\\___/|_|   \n",
      "                             |___/                              \n",
      "\n",
      "MEAN SQUARED ERROR 1832344.7281084755\n",
      "\n",
      "\n",
      "MEAN ABSOLUTE ERROR 766.3224291725576\n",
      "\n",
      "\n",
      "CVS_SCORE 0.8867385488500265\n",
      "\n",
      "\n",
      "R2_SCORE 0.909282805714198\n",
      "\n",
      "\n",
      "RMSE 1353.6412848714667\n",
      "\n",
      "\n",
      "MODEL PERFORMANCE CURVE\n"
     ]
    },
    {
     "data": {
      "image/png": "[encoded data removed]",
      "text/plain": [
       "<Figure size 432x288 with 1 Axes>"
      ]
     },
     "metadata": {
      "needs_background": "light"
     },
     "output_type": "display_data"
    },
    {
     "name": "stdout",
     "output_type": "stream",
     "text": [
      " _____      _            _____                   \n",
      "| ____|_  _| |_ _ __ __ |_   _| __ ___  ___  ___ \n",
      "|  _| \\ \\/ / __| '__/ _` || || '__/ _ \\/ _ \\/ __|\n",
      "| |___ >  <| |_| | | (_| || || | |  __/  __/\\__ \\\n",
      "|_____/_/\\_\\\\__|_|  \\__,_||_||_|  \\___|\\___||___/\n",
      "                                                 \n",
      " ____                                         \n",
      "|  _ \\ ___  __ _ _ __ ___  ___ ___  ___  _ __ \n",
      "| |_) / _ \\/ _` | '__/ _ \\/ __/ __|/ _ \\| '__|\n",
      "|  _ <  __/ (_| | | |  __/\\__ \\__ \\ (_) | |   \n",
      "|_| \\_\\___|\\__, |_|  \\___||___/___/\\___/|_|   \n",
      "           |___/                              \n",
      "\n",
      "MEAN SQUARED ERROR 2033764.4348049958\n",
      "\n",
      "\n",
      "MEAN ABSOLUTE ERROR 656.8606822672907\n",
      "\n",
      "\n",
      "CVS_SCORE 0.8882713918507322\n",
      "\n",
      "\n",
      "R2_SCORE 0.8993107571225336\n",
      "\n",
      "\n",
      "RMSE 1426.1011306373036\n",
      "\n",
      "\n",
      "MODEL PERFORMANCE CURVE\n"
     ]
    },
    {
     "data": {
      "image/png": "[encoded data removed]",
      "text/plain": [
       "<Figure size 432x288 with 1 Axes>"
      ]
     },
     "metadata": {
      "needs_background": "light"
     },
     "output_type": "display_data"
    },
    {
     "name": "stdout",
     "output_type": "stream",
     "text": [
      " ____                 _                 _____                   _   \n",
      "|  _ \\ __ _ _ __   __| | ___  _ __ ___ |  ___|__  _ __ ___  ___| |_ \n",
      "| |_) / _` | '_ \\ / _` |/ _ \\| '_ ` _ \\| |_ / _ \\| '__/ _ \\/ __| __|\n",
      "|  _ < (_| | | | | (_| | (_) | | | | | |  _| (_) | | |  __/\\__ \\ |_ \n",
      "|_| \\_\\__,_|_| |_|\\__,_|\\___/|_| |_| |_|_|  \\___/|_|  \\___||___/\\__|\n",
      "                                                                    \n",
      " ____                                         \n",
      "|  _ \\ ___  __ _ _ __ ___  ___ ___  ___  _ __ \n",
      "| |_) / _ \\/ _` | '__/ _ \\/ __/ __|/ _ \\| '__|\n",
      "|  _ <  __/ (_| | | |  __/\\__ \\__ \\ (_) | |   \n",
      "|_| \\_\\___|\\__, |_|  \\___||___/___/\\___/|_|   \n",
      "           |___/                              \n",
      "\n",
      "MEAN SQUARED ERROR 2146394.116457226\n",
      "\n",
      "\n",
      "MEAN ABSOLUTE ERROR 680.2894646237278\n",
      "\n",
      "\n",
      "CVS_SCORE 0.8854484862883524\n",
      "\n",
      "\n",
      "R2_SCORE 0.8937345963946662\n",
      "\n",
      "\n",
      "RMSE 1465.0577177904038\n",
      "\n",
      "\n",
      "MODEL PERFORMANCE CURVE\n"
     ]
    },
    {
     "data": {
      "image/png": "[encoded data removed]",
      "text/plain": [
       "<Figure size 432x288 with 1 Axes>"
      ]
     },
     "metadata": {
      "needs_background": "light"
     },
     "output_type": "display_data"
    },
    {
     "name": "stdout",
     "output_type": "stream",
     "text": [
      " _     _                       \n",
      "| |   (_)_ __   ___  __ _ _ __ \n",
      "| |   | | '_ \\ / _ \\/ _` | '__|\n",
      "| |___| | | | |  __/ (_| | |   \n",
      "|_____|_|_| |_|\\___|\\__,_|_|   \n",
      "                               \n",
      " ____                              _             \n",
      "|  _ \\ ___  __ _ _ __ ___  ___ ___(_) ___  _ __  \n",
      "| |_) / _ \\/ _` | '__/ _ \\/ __/ __| |/ _ \\| '_ \\ \n",
      "|  _ <  __/ (_| | | |  __/\\__ \\__ \\ | (_) | | | |\n",
      "|_| \\_\\___|\\__, |_|  \\___||___/___/_|\\___/|_| |_|\n",
      "           |___/                                 \n",
      "\n",
      "MEAN SQUARED ERROR 12413993.742844012\n",
      "\n",
      "\n",
      "MEAN ABSOLUTE ERROR 2609.2599387689156\n",
      "\n",
      "\n",
      "CVS_SCORE 0.36794250467033385\n",
      "\n",
      "\n",
      "R2_SCORE 0.3853980285713777\n",
      "\n",
      "\n",
      "RMSE 3523.349790021424\n",
      "\n",
      "\n",
      "MODEL PERFORMANCE CURVE\n"
     ]
    },
    {
     "data": {
      "image/png": "[encoded data removed]",
      "text/plain": [
       "<Figure size 432x288 with 1 Axes>"
      ]
     },
     "metadata": {
      "needs_background": "light"
     },
     "output_type": "display_data"
    },
    {
     "name": "stdout",
     "output_type": "stream",
     "text": [
      " ____            _     _           _____              \n",
      "|  _ \\  ___  ___(_)___(_) ___  _ _|_   _| __ ___  ___ \n",
      "| | | |/ _ \\/ __| / __| |/ _ \\| '_ \\| || '__/ _ \\/ _ \\\n",
      "| |_| |  __/ (__| \\__ \\ | (_) | | | | || | |  __/  __/\n",
      "|____/ \\___|\\___|_|___/_|\\___/|_| |_|_||_|  \\___|\\___|\n",
      "                                                      \n",
      " ____                                         \n",
      "|  _ \\ ___  __ _ _ __ ___  ___ ___  ___  _ __ \n",
      "| |_) / _ \\/ _` | '__/ _ \\/ __/ __|/ _ \\| '__|\n",
      "|  _ <  __/ (_| | | |  __/\\__ \\__ \\ (_) | |   \n",
      "|_| \\_\\___|\\__, |_|  \\___||___/___/\\___/|_|   \n",
      "           |___/                              \n",
      "\n",
      "MEAN SQUARED ERROR 3929597.040604958\n",
      "\n",
      "\n",
      "MEAN ABSOLUTE ERROR 738.6366614664587\n",
      "\n",
      "\n",
      "CVS_SCORE 0.8109563530764564\n",
      "\n",
      "\n",
      "R2_SCORE 0.8054503540032729\n",
      "\n",
      "\n",
      "RMSE 1982.3211244914276\n",
      "\n",
      "\n",
      "MODEL PERFORMANCE CURVE\n"
     ]
    },
    {
     "data": {
      "image/png": "[encoded data removed]",
      "text/plain": [
       "<Figure size 432x288 with 1 Axes>"
      ]
     },
     "metadata": {
      "needs_background": "light"
     },
     "output_type": "display_data"
    },
    {
     "name": "stdout",
     "output_type": "stream",
     "text": [
      " _                        \n",
      "| |    __ _ ___ ___  ___  \n",
      "| |   / _` / __/ __|/ _ \\ \n",
      "| |__| (_| \\__ \\__ \\ (_) |\n",
      "|_____\\__,_|___/___/\\___/ \n",
      "                          \n",
      "\n",
      "MEAN SQUARED ERROR 12413868.25613985\n",
      "\n",
      "\n",
      "MEAN ABSOLUTE ERROR 2609.2178706471004\n",
      "\n",
      "\n",
      "CVS_SCORE 0.36720519017032005\n",
      "\n",
      "\n",
      "R2_SCORE 0.38540424126790096\n",
      "\n",
      "\n",
      "RMSE 3523.331982107257\n",
      "\n",
      "\n",
      "MODEL PERFORMANCE CURVE\n"
     ]
    },
    {
     "data": {
      "image/png": "[encoded data removed]",
      "text/plain": [
       "<Figure size 432x288 with 1 Axes>"
      ]
     },
     "metadata": {
      "needs_background": "light"
     },
     "output_type": "display_data"
    },
    {
     "name": "stdout",
     "output_type": "stream",
     "text": [
      " _     ___ ____ _   _ _____    ____ ____  __  __ \n",
      "| |   |_ _/ ___| | | |_   _|  / ___| __ )|  \\/  |\n",
      "| |    | | |  _| |_| | | |   | |  _|  _ \\| |\\/| |\n",
      "| |___ | | |_| |  _  | | |   | |_| | |_) | |  | |\n",
      "|_____|___\\____|_| |_| |_|    \\____|____/|_|  |_|\n",
      "                                                 \n",
      "\n",
      "MEAN SQUARED ERROR 2411596.947038205\n",
      "\n",
      "\n",
      "MEAN ABSOLUTE ERROR 950.5863594904663\n",
      "\n",
      "\n",
      "CVS_SCORE 0.8633190761310233\n",
      "\n",
      "\n",
      "R2_SCORE 0.8806047216839207\n",
      "\n",
      "\n",
      "RMSE 1552.9317264574786\n",
      "\n",
      "\n",
      "MODEL PERFORMANCE CURVE\n"
     ]
    },
    {
     "data": {
      "image/png": "[encoded data removed]",
      "text/plain": [
       "<Figure size 432x288 with 1 Axes>"
      ]
     },
     "metadata": {
      "needs_background": "light"
     },
     "output_type": "display_data"
    }
   ],
   "source": [
    "CVS=[]\n",
    "R2=[]\n",
    "MSE=[]\n",
    "MAE=[]\n",
    "RMSE=[]\n",
    "NAME=[]\n",
    "kf=KFold(n_splits=5,shuffle=True)\n",
    "for name, model in models.items():\n",
    "  font=pyfiglet.figlet_format(name)\n",
    "  print(font)\n",
    "  NAME.append(name)\n",
    "  model.fit(X_train,y_train)\n",
    "  y_pred=model.predict(X_test)\n",
    "  mse=mean_squared_error(y_test,y_pred)\n",
    "  MSE.append(mse)\n",
    "  print(\"MEAN SQUARED ERROR\",mse)\n",
    "  mae=mean_absolute_error(y_test,y_pred)\n",
    "  MAE.append(mae)\n",
    "  print('\\n')\n",
    "  print(\"MEAN ABSOLUTE ERROR\",mae)\n",
    "  cvs=cross_val_score(model,X,y,scoring='r2',cv=kf).mean()\n",
    "  CVS.append(cvs)\n",
    "  print('\\n')\n",
    "  print(\"CVS_SCORE\",cvs)\n",
    "  r2=r2_score(y_test,y_pred)\n",
    "  R2.append(r2)\n",
    "  print('\\n')\n",
    "  print(\"R2_SCORE\",r2)\n",
    "  rmse=np.sqrt(mse)\n",
    "  RMSE.append(rmse)\n",
    "  print('\\n')\n",
    "  print(\"RMSE\",rmse)\n",
    "  print('\\n')\n",
    "  print('MODEL PERFORMANCE CURVE')\n",
    "  skplt.estimators.plot_learning_curve(model,X,y,cv=kf,scoring='r2',title=name,text_fontsize='large')\n",
    "  plt.show()"
   ]
  },
  {
   "cell_type": "code",
   "execution_count": 37,
   "id": "81679adb",
   "metadata": {},
   "outputs": [],
   "source": [
    "models_result=pd.DataFrame({\n",
    "    \"NAME\":NAME,\n",
    "    \"Cross_Val_Score\":CVS,\n",
    "    \"R2_score\":R2,\n",
    "    \"Mean_squared_error\":MSE,\n",
    "    \"Mean_Absolute_Error\":MAE,\n",
    "    \"RMSE\":RMSE\n",
    "})"
   ]
  },
  {
   "cell_type": "code",
   "execution_count": 38,
   "id": "08776148",
   "metadata": {},
   "outputs": [
    {
     "data": {
      "text/html": [
       "<div>\n",
       "<style scoped>\n",
       "    .dataframe tbody tr th:only-of-type {\n",
       "        vertical-align: middle;\n",
       "    }\n",
       "\n",
       "    .dataframe tbody tr th {\n",
       "        vertical-align: top;\n",
       "    }\n",
       "\n",
       "    .dataframe thead th {\n",
       "        text-align: right;\n",
       "    }\n",
       "</style>\n",
       "<table border=\"1\" class=\"dataframe\">\n",
       "  <thead>\n",
       "    <tr style=\"text-align: right;\">\n",
       "      <th></th>\n",
       "      <th>NAME</th>\n",
       "      <th>Cross_Val_Score</th>\n",
       "      <th>R2_score</th>\n",
       "      <th>Mean_squared_error</th>\n",
       "      <th>Mean_Absolute_Error</th>\n",
       "      <th>RMSE</th>\n",
       "    </tr>\n",
       "  </thead>\n",
       "  <tbody>\n",
       "    <tr>\n",
       "      <th>0</th>\n",
       "      <td>XGB Regressor</td>\n",
       "      <td>0.886739</td>\n",
       "      <td>0.909283</td>\n",
       "      <td>1.832345e+06</td>\n",
       "      <td>766.322429</td>\n",
       "      <td>1353.641285</td>\n",
       "    </tr>\n",
       "    <tr>\n",
       "      <th>1</th>\n",
       "      <td>ExtraTrees Regressor</td>\n",
       "      <td>0.888271</td>\n",
       "      <td>0.899311</td>\n",
       "      <td>2.033764e+06</td>\n",
       "      <td>656.860682</td>\n",
       "      <td>1426.101131</td>\n",
       "    </tr>\n",
       "    <tr>\n",
       "      <th>2</th>\n",
       "      <td>RandomForest Regressor</td>\n",
       "      <td>0.885448</td>\n",
       "      <td>0.893735</td>\n",
       "      <td>2.146394e+06</td>\n",
       "      <td>680.289465</td>\n",
       "      <td>1465.057718</td>\n",
       "    </tr>\n",
       "    <tr>\n",
       "      <th>3</th>\n",
       "      <td>Linear Regression</td>\n",
       "      <td>0.367943</td>\n",
       "      <td>0.385398</td>\n",
       "      <td>1.241399e+07</td>\n",
       "      <td>2609.259939</td>\n",
       "      <td>3523.349790</td>\n",
       "    </tr>\n",
       "    <tr>\n",
       "      <th>4</th>\n",
       "      <td>DecisionTree Regressor</td>\n",
       "      <td>0.810956</td>\n",
       "      <td>0.805450</td>\n",
       "      <td>3.929597e+06</td>\n",
       "      <td>738.636661</td>\n",
       "      <td>1982.321124</td>\n",
       "    </tr>\n",
       "    <tr>\n",
       "      <th>5</th>\n",
       "      <td>Lasso</td>\n",
       "      <td>0.367205</td>\n",
       "      <td>0.385404</td>\n",
       "      <td>1.241387e+07</td>\n",
       "      <td>2609.217871</td>\n",
       "      <td>3523.331982</td>\n",
       "    </tr>\n",
       "    <tr>\n",
       "      <th>6</th>\n",
       "      <td>LIGHT GBM</td>\n",
       "      <td>0.863319</td>\n",
       "      <td>0.880605</td>\n",
       "      <td>2.411597e+06</td>\n",
       "      <td>950.586359</td>\n",
       "      <td>1552.931726</td>\n",
       "    </tr>\n",
       "  </tbody>\n",
       "</table>\n",
       "</div>"
      ],
      "text/plain": [
       "                     NAME  Cross_Val_Score  R2_score  Mean_squared_error  \\\n",
       "0           XGB Regressor         0.886739  0.909283        1.832345e+06   \n",
       "1    ExtraTrees Regressor         0.888271  0.899311        2.033764e+06   \n",
       "2  RandomForest Regressor         0.885448  0.893735        2.146394e+06   \n",
       "3       Linear Regression         0.367943  0.385398        1.241399e+07   \n",
       "4  DecisionTree Regressor         0.810956  0.805450        3.929597e+06   \n",
       "5                   Lasso         0.367205  0.385404        1.241387e+07   \n",
       "6               LIGHT GBM         0.863319  0.880605        2.411597e+06   \n",
       "\n",
       "   Mean_Absolute_Error         RMSE  \n",
       "0           766.322429  1353.641285  \n",
       "1           656.860682  1426.101131  \n",
       "2           680.289465  1465.057718  \n",
       "3          2609.259939  3523.349790  \n",
       "4           738.636661  1982.321124  \n",
       "5          2609.217871  3523.331982  \n",
       "6           950.586359  1552.931726  "
      ]
     },
     "execution_count": 38,
     "metadata": {},
     "output_type": "execute_result"
    }
   ],
   "source": [
    "models_result"
   ]
  },
  {
   "cell_type": "markdown",
   "id": "cffb4440",
   "metadata": {},
   "source": [
    "**I will do hyperparameter Tuning of XGB because it is giving me good CVS and 91% R2 SCore**"
   ]
  },
  {
   "cell_type": "code",
   "execution_count": 39,
   "id": "15c6bf86",
   "metadata": {},
   "outputs": [],
   "source": [
    "XGB=XGBRegressor()"
   ]
  },
  {
   "cell_type": "markdown",
   "id": "cffde3ca",
   "metadata": {},
   "source": [
    "# Hyperparameter Tuning"
   ]
  },
  {
   "cell_type": "code",
   "execution_count": 40,
   "id": "ab9d682f",
   "metadata": {},
   "outputs": [],
   "source": [
    "params = {\n",
    "    'booster':['gbtree','dart'],\n",
    "    'importance_type':['gain','split'],\n",
    "    'max_depth':[6,5,7],\n",
    "    'n_estimators':[100,200,500]\n",
    "}"
   ]
  },
  {
   "cell_type": "code",
   "execution_count": 41,
   "id": "2b66738b",
   "metadata": {
    "scrolled": true
   },
   "outputs": [
    {
     "data": {
      "text/html": [
       "<style>#sk-container-id-1 {color: black;background-color: white;}#sk-container-id-1 pre{padding: 0;}#sk-container-id-1 div.sk-toggleable {background-color: white;}#sk-container-id-1 label.sk-toggleable__label {cursor: pointer;display: block;width: 100%;margin-bottom: 0;padding: 0.3em;box-sizing: border-box;text-align: center;}#sk-container-id-1 label.sk-toggleable__label-arrow:before {content: \"▸\";float: left;margin-right: 0.25em;color: #696969;}#sk-container-id-1 label.sk-toggleable__label-arrow:hover:before {color: black;}#sk-container-id-1 div.sk-estimator:hover label.sk-toggleable__label-arrow:before {color: black;}#sk-container-id-1 div.sk-toggleable__content {max-height: 0;max-width: 0;overflow: hidden;text-align: left;background-color: #f0f8ff;}#sk-container-id-1 div.sk-toggleable__content pre {margin: 0.2em;color: black;border-radius: 0.25em;background-color: #f0f8ff;}#sk-container-id-1 input.sk-toggleable__control:checked~div.sk-toggleable__content {max-height: 200px;max-width: 100%;overflow: auto;}#sk-container-id-1 input.sk-toggleable__control:checked~label.sk-toggleable__label-arrow:before {content: \"▾\";}#sk-container-id-1 div.sk-estimator input.sk-toggleable__control:checked~label.sk-toggleable__label {background-color: #d4ebff;}#sk-container-id-1 div.sk-label input.sk-toggleable__control:checked~label.sk-toggleable__label {background-color: #d4ebff;}#sk-container-id-1 input.sk-hidden--visually {border: 0;clip: rect(1px 1px 1px 1px);clip: rect(1px, 1px, 1px, 1px);height: 1px;margin: -1px;overflow: hidden;padding: 0;position: absolute;width: 1px;}#sk-container-id-1 div.sk-estimator {font-family: monospace;background-color: #f0f8ff;border: 1px dotted black;border-radius: 0.25em;box-sizing: border-box;margin-bottom: 0.5em;}#sk-container-id-1 div.sk-estimator:hover {background-color: #d4ebff;}#sk-container-id-1 div.sk-parallel-item::after {content: \"\";width: 100%;border-bottom: 1px solid gray;flex-grow: 1;}#sk-container-id-1 div.sk-label:hover label.sk-toggleable__label {background-color: #d4ebff;}#sk-container-id-1 div.sk-serial::before {content: \"\";position: absolute;border-left: 1px solid gray;box-sizing: border-box;top: 0;bottom: 0;left: 50%;z-index: 0;}#sk-container-id-1 div.sk-serial {display: flex;flex-direction: column;align-items: center;background-color: white;padding-right: 0.2em;padding-left: 0.2em;position: relative;}#sk-container-id-1 div.sk-item {position: relative;z-index: 1;}#sk-container-id-1 div.sk-parallel {display: flex;align-items: stretch;justify-content: center;background-color: white;position: relative;}#sk-container-id-1 div.sk-item::before, #sk-container-id-1 div.sk-parallel-item::before {content: \"\";position: absolute;border-left: 1px solid gray;box-sizing: border-box;top: 0;bottom: 0;left: 50%;z-index: -1;}#sk-container-id-1 div.sk-parallel-item {display: flex;flex-direction: column;z-index: 1;position: relative;background-color: white;}#sk-container-id-1 div.sk-parallel-item:first-child::after {align-self: flex-end;width: 50%;}#sk-container-id-1 div.sk-parallel-item:last-child::after {align-self: flex-start;width: 50%;}#sk-container-id-1 div.sk-parallel-item:only-child::after {width: 0;}#sk-container-id-1 div.sk-dashed-wrapped {border: 1px dashed gray;margin: 0 0.4em 0.5em 0.4em;box-sizing: border-box;padding-bottom: 0.4em;background-color: white;}#sk-container-id-1 div.sk-label label {font-family: monospace;font-weight: bold;display: inline-block;line-height: 1.2em;}#sk-container-id-1 div.sk-label-container {text-align: center;}#sk-container-id-1 div.sk-container {/* jupyter's `normalize.less` sets `[hidden] { display: none; }` but bootstrap.min.css set `[hidden] { display: none !important; }` so we also need the `!important` here to be able to override the default hidden behavior on the sphinx rendered scikit-learn.org. See: https://github.com/scikit-learn/scikit-learn/issues/21755 */display: inline-block !important;position: relative;}#sk-container-id-1 div.sk-text-repr-fallback {display: none;}</style><div id=\"sk-container-id-1\" class=\"sk-top-container\"><div class=\"sk-text-repr-fallback\"><pre>GridSearchCV(cv=KFold(n_splits=5, random_state=None, shuffle=True),\n",
       "             estimator=XGBRegressor(base_score=None, booster=None,\n",
       "                                    callbacks=None, colsample_bylevel=None,\n",
       "                                    colsample_bynode=None,\n",
       "                                    colsample_bytree=None,\n",
       "                                    early_stopping_rounds=None,\n",
       "                                    enable_categorical=False, eval_metric=None,\n",
       "                                    gamma=None, gpu_id=None, grow_policy=None,\n",
       "                                    importance_type=None,\n",
       "                                    interaction_constrain...\n",
       "                                    max_depth=None, max_leaves=None,\n",
       "                                    min_child_weight=None, missing=nan,\n",
       "                                    monotone_constraints=None, n_estimators=100,\n",
       "                                    n_jobs=None, num_parallel_tree=None,\n",
       "                                    predictor=None, random_state=None,\n",
       "                                    reg_alpha=None, reg_lambda=None, ...),\n",
       "             n_jobs=-1,\n",
       "             param_grid={&#x27;booster&#x27;: [&#x27;gbtree&#x27;, &#x27;dart&#x27;],\n",
       "                         &#x27;importance_type&#x27;: [&#x27;gain&#x27;, &#x27;split&#x27;],\n",
       "                         &#x27;max_depth&#x27;: [6, 5, 7],\n",
       "                         &#x27;n_estimators&#x27;: [100, 200, 500]},\n",
       "             scoring=&#x27;r2&#x27;)</pre><b>In a Jupyter environment, please rerun this cell to show the HTML representation or trust the notebook. <br />On GitHub, the HTML representation is unable to render, please try loading this page with nbviewer.org.</b></div><div class=\"sk-container\" hidden><div class=\"sk-item sk-dashed-wrapped\"><div class=\"sk-label-container\"><div class=\"sk-label sk-toggleable\"><input class=\"sk-toggleable__control sk-hidden--visually\" id=\"sk-estimator-id-1\" type=\"checkbox\" ><label for=\"sk-estimator-id-1\" class=\"sk-toggleable__label sk-toggleable__label-arrow\">GridSearchCV</label><div class=\"sk-toggleable__content\"><pre>GridSearchCV(cv=KFold(n_splits=5, random_state=None, shuffle=True),\n",
       "             estimator=XGBRegressor(base_score=None, booster=None,\n",
       "                                    callbacks=None, colsample_bylevel=None,\n",
       "                                    colsample_bynode=None,\n",
       "                                    colsample_bytree=None,\n",
       "                                    early_stopping_rounds=None,\n",
       "                                    enable_categorical=False, eval_metric=None,\n",
       "                                    gamma=None, gpu_id=None, grow_policy=None,\n",
       "                                    importance_type=None,\n",
       "                                    interaction_constrain...\n",
       "                                    max_depth=None, max_leaves=None,\n",
       "                                    min_child_weight=None, missing=nan,\n",
       "                                    monotone_constraints=None, n_estimators=100,\n",
       "                                    n_jobs=None, num_parallel_tree=None,\n",
       "                                    predictor=None, random_state=None,\n",
       "                                    reg_alpha=None, reg_lambda=None, ...),\n",
       "             n_jobs=-1,\n",
       "             param_grid={&#x27;booster&#x27;: [&#x27;gbtree&#x27;, &#x27;dart&#x27;],\n",
       "                         &#x27;importance_type&#x27;: [&#x27;gain&#x27;, &#x27;split&#x27;],\n",
       "                         &#x27;max_depth&#x27;: [6, 5, 7],\n",
       "                         &#x27;n_estimators&#x27;: [100, 200, 500]},\n",
       "             scoring=&#x27;r2&#x27;)</pre></div></div></div><div class=\"sk-parallel\"><div class=\"sk-parallel-item\"><div class=\"sk-item\"><div class=\"sk-label-container\"><div class=\"sk-label sk-toggleable\"><input class=\"sk-toggleable__control sk-hidden--visually\" id=\"sk-estimator-id-2\" type=\"checkbox\" ><label for=\"sk-estimator-id-2\" class=\"sk-toggleable__label sk-toggleable__label-arrow\">estimator: XGBRegressor</label><div class=\"sk-toggleable__content\"><pre>XGBRegressor(base_score=None, booster=None, callbacks=None,\n",
       "             colsample_bylevel=None, colsample_bynode=None,\n",
       "             colsample_bytree=None, early_stopping_rounds=None,\n",
       "             enable_categorical=False, eval_metric=None, gamma=None,\n",
       "             gpu_id=None, grow_policy=None, importance_type=None,\n",
       "             interaction_constraints=None, learning_rate=None, max_bin=None,\n",
       "             max_cat_to_onehot=None, max_delta_step=None, max_depth=None,\n",
       "             max_leaves=None, min_child_weight=None, missing=nan,\n",
       "             monotone_constraints=None, n_estimators=100, n_jobs=None,\n",
       "             num_parallel_tree=None, predictor=None, random_state=None,\n",
       "             reg_alpha=None, reg_lambda=None, ...)</pre></div></div></div><div class=\"sk-serial\"><div class=\"sk-item\"><div class=\"sk-estimator sk-toggleable\"><input class=\"sk-toggleable__control sk-hidden--visually\" id=\"sk-estimator-id-3\" type=\"checkbox\" ><label for=\"sk-estimator-id-3\" class=\"sk-toggleable__label sk-toggleable__label-arrow\">XGBRegressor</label><div class=\"sk-toggleable__content\"><pre>XGBRegressor(base_score=None, booster=None, callbacks=None,\n",
       "             colsample_bylevel=None, colsample_bynode=None,\n",
       "             colsample_bytree=None, early_stopping_rounds=None,\n",
       "             enable_categorical=False, eval_metric=None, gamma=None,\n",
       "             gpu_id=None, grow_policy=None, importance_type=None,\n",
       "             interaction_constraints=None, learning_rate=None, max_bin=None,\n",
       "             max_cat_to_onehot=None, max_delta_step=None, max_depth=None,\n",
       "             max_leaves=None, min_child_weight=None, missing=nan,\n",
       "             monotone_constraints=None, n_estimators=100, n_jobs=None,\n",
       "             num_parallel_tree=None, predictor=None, random_state=None,\n",
       "             reg_alpha=None, reg_lambda=None, ...)</pre></div></div></div></div></div></div></div></div></div></div>"
      ],
      "text/plain": [
       "GridSearchCV(cv=KFold(n_splits=5, random_state=None, shuffle=True),\n",
       "             estimator=XGBRegressor(base_score=None, booster=None,\n",
       "                                    callbacks=None, colsample_bylevel=None,\n",
       "                                    colsample_bynode=None,\n",
       "                                    colsample_bytree=None,\n",
       "                                    early_stopping_rounds=None,\n",
       "                                    enable_categorical=False, eval_metric=None,\n",
       "                                    gamma=None, gpu_id=None, grow_policy=None,\n",
       "                                    importance_type=None,\n",
       "                                    interaction_constrain...\n",
       "                                    max_depth=None, max_leaves=None,\n",
       "                                    min_child_weight=None, missing=nan,\n",
       "                                    monotone_constraints=None, n_estimators=100,\n",
       "                                    n_jobs=None, num_parallel_tree=None,\n",
       "                                    predictor=None, random_state=None,\n",
       "                                    reg_alpha=None, reg_lambda=None, ...),\n",
       "             n_jobs=-1,\n",
       "             param_grid={'booster': ['gbtree', 'dart'],\n",
       "                         'importance_type': ['gain', 'split'],\n",
       "                         'max_depth': [6, 5, 7],\n",
       "                         'n_estimators': [100, 200, 500]},\n",
       "             scoring='r2')"
      ]
     },
     "execution_count": 41,
     "metadata": {},
     "output_type": "execute_result"
    }
   ],
   "source": [
    "Grid=GridSearchCV(estimator=XGB, param_grid=params, cv=kf, n_jobs=-1, scoring='r2')\n",
    "Grid.fit(X,y)"
   ]
  },
  {
   "cell_type": "code",
   "execution_count": 42,
   "id": "255f04cc",
   "metadata": {},
   "outputs": [
    {
     "data": {
      "text/plain": [
       "{'booster': 'gbtree',\n",
       " 'importance_type': 'gain',\n",
       " 'max_depth': 5,\n",
       " 'n_estimators': 500}"
      ]
     },
     "execution_count": 42,
     "metadata": {},
     "output_type": "execute_result"
    }
   ],
   "source": [
    "Grid.best_params_"
   ]
  },
  {
   "cell_type": "code",
   "execution_count": 43,
   "id": "2d30b69b",
   "metadata": {},
   "outputs": [
    {
     "data": {
      "text/plain": [
       "0.8887682901217591"
      ]
     },
     "execution_count": 43,
     "metadata": {},
     "output_type": "execute_result"
    }
   ],
   "source": [
    "Grid.best_score_"
   ]
  },
  {
   "cell_type": "markdown",
   "id": "fcf1b686",
   "metadata": {},
   "source": [
    "**Accuracy increased by 89.60 to 90.28**"
   ]
  },
  {
   "cell_type": "code",
   "execution_count": 44,
   "id": "fee8f2aa",
   "metadata": {},
   "outputs": [],
   "source": [
    "XGBR=XGBRegressor(booster = 'dart',\n",
    "                 importance_type = 'gain',\n",
    "                 max_depth = 6,\n",
    "                 n_estimators = 200)"
   ]
  },
  {
   "cell_type": "code",
   "execution_count": 45,
   "id": "3a8184a1",
   "metadata": {},
   "outputs": [
    {
     "data": {
      "text/html": [
       "<style>#sk-container-id-2 {color: black;background-color: white;}#sk-container-id-2 pre{padding: 0;}#sk-container-id-2 div.sk-toggleable {background-color: white;}#sk-container-id-2 label.sk-toggleable__label {cursor: pointer;display: block;width: 100%;margin-bottom: 0;padding: 0.3em;box-sizing: border-box;text-align: center;}#sk-container-id-2 label.sk-toggleable__label-arrow:before {content: \"▸\";float: left;margin-right: 0.25em;color: #696969;}#sk-container-id-2 label.sk-toggleable__label-arrow:hover:before {color: black;}#sk-container-id-2 div.sk-estimator:hover label.sk-toggleable__label-arrow:before {color: black;}#sk-container-id-2 div.sk-toggleable__content {max-height: 0;max-width: 0;overflow: hidden;text-align: left;background-color: #f0f8ff;}#sk-container-id-2 div.sk-toggleable__content pre {margin: 0.2em;color: black;border-radius: 0.25em;background-color: #f0f8ff;}#sk-container-id-2 input.sk-toggleable__control:checked~div.sk-toggleable__content {max-height: 200px;max-width: 100%;overflow: auto;}#sk-container-id-2 input.sk-toggleable__control:checked~label.sk-toggleable__label-arrow:before {content: \"▾\";}#sk-container-id-2 div.sk-estimator input.sk-toggleable__control:checked~label.sk-toggleable__label {background-color: #d4ebff;}#sk-container-id-2 div.sk-label input.sk-toggleable__control:checked~label.sk-toggleable__label {background-color: #d4ebff;}#sk-container-id-2 input.sk-hidden--visually {border: 0;clip: rect(1px 1px 1px 1px);clip: rect(1px, 1px, 1px, 1px);height: 1px;margin: -1px;overflow: hidden;padding: 0;position: absolute;width: 1px;}#sk-container-id-2 div.sk-estimator {font-family: monospace;background-color: #f0f8ff;border: 1px dotted black;border-radius: 0.25em;box-sizing: border-box;margin-bottom: 0.5em;}#sk-container-id-2 div.sk-estimator:hover {background-color: #d4ebff;}#sk-container-id-2 div.sk-parallel-item::after {content: \"\";width: 100%;border-bottom: 1px solid gray;flex-grow: 1;}#sk-container-id-2 div.sk-label:hover label.sk-toggleable__label {background-color: #d4ebff;}#sk-container-id-2 div.sk-serial::before {content: \"\";position: absolute;border-left: 1px solid gray;box-sizing: border-box;top: 0;bottom: 0;left: 50%;z-index: 0;}#sk-container-id-2 div.sk-serial {display: flex;flex-direction: column;align-items: center;background-color: white;padding-right: 0.2em;padding-left: 0.2em;position: relative;}#sk-container-id-2 div.sk-item {position: relative;z-index: 1;}#sk-container-id-2 div.sk-parallel {display: flex;align-items: stretch;justify-content: center;background-color: white;position: relative;}#sk-container-id-2 div.sk-item::before, #sk-container-id-2 div.sk-parallel-item::before {content: \"\";position: absolute;border-left: 1px solid gray;box-sizing: border-box;top: 0;bottom: 0;left: 50%;z-index: -1;}#sk-container-id-2 div.sk-parallel-item {display: flex;flex-direction: column;z-index: 1;position: relative;background-color: white;}#sk-container-id-2 div.sk-parallel-item:first-child::after {align-self: flex-end;width: 50%;}#sk-container-id-2 div.sk-parallel-item:last-child::after {align-self: flex-start;width: 50%;}#sk-container-id-2 div.sk-parallel-item:only-child::after {width: 0;}#sk-container-id-2 div.sk-dashed-wrapped {border: 1px dashed gray;margin: 0 0.4em 0.5em 0.4em;box-sizing: border-box;padding-bottom: 0.4em;background-color: white;}#sk-container-id-2 div.sk-label label {font-family: monospace;font-weight: bold;display: inline-block;line-height: 1.2em;}#sk-container-id-2 div.sk-label-container {text-align: center;}#sk-container-id-2 div.sk-container {/* jupyter's `normalize.less` sets `[hidden] { display: none; }` but bootstrap.min.css set `[hidden] { display: none !important; }` so we also need the `!important` here to be able to override the default hidden behavior on the sphinx rendered scikit-learn.org. See: https://github.com/scikit-learn/scikit-learn/issues/21755 */display: inline-block !important;position: relative;}#sk-container-id-2 div.sk-text-repr-fallback {display: none;}</style><div id=\"sk-container-id-2\" class=\"sk-top-container\"><div class=\"sk-text-repr-fallback\"><pre>XGBRegressor(base_score=0.5, booster=&#x27;dart&#x27;, callbacks=None,\n",
       "             colsample_bylevel=1, colsample_bynode=1, colsample_bytree=1,\n",
       "             early_stopping_rounds=None, enable_categorical=False,\n",
       "             eval_metric=None, gamma=0, gpu_id=-1, grow_policy=&#x27;depthwise&#x27;,\n",
       "             importance_type=&#x27;gain&#x27;, interaction_constraints=&#x27;&#x27;,\n",
       "             learning_rate=0.300000012, max_bin=256, max_cat_to_onehot=4,\n",
       "             max_delta_step=0, max_depth=6, max_leaves=0, min_child_weight=1,\n",
       "             missing=nan, monotone_constraints=&#x27;()&#x27;, n_estimators=200, n_jobs=0,\n",
       "             num_parallel_tree=1, predictor=&#x27;auto&#x27;, random_state=0, reg_alpha=0,\n",
       "             reg_lambda=1, ...)</pre><b>In a Jupyter environment, please rerun this cell to show the HTML representation or trust the notebook. <br />On GitHub, the HTML representation is unable to render, please try loading this page with nbviewer.org.</b></div><div class=\"sk-container\" hidden><div class=\"sk-item\"><div class=\"sk-estimator sk-toggleable\"><input class=\"sk-toggleable__control sk-hidden--visually\" id=\"sk-estimator-id-4\" type=\"checkbox\" checked><label for=\"sk-estimator-id-4\" class=\"sk-toggleable__label sk-toggleable__label-arrow\">XGBRegressor</label><div class=\"sk-toggleable__content\"><pre>XGBRegressor(base_score=0.5, booster=&#x27;dart&#x27;, callbacks=None,\n",
       "             colsample_bylevel=1, colsample_bynode=1, colsample_bytree=1,\n",
       "             early_stopping_rounds=None, enable_categorical=False,\n",
       "             eval_metric=None, gamma=0, gpu_id=-1, grow_policy=&#x27;depthwise&#x27;,\n",
       "             importance_type=&#x27;gain&#x27;, interaction_constraints=&#x27;&#x27;,\n",
       "             learning_rate=0.300000012, max_bin=256, max_cat_to_onehot=4,\n",
       "             max_delta_step=0, max_depth=6, max_leaves=0, min_child_weight=1,\n",
       "             missing=nan, monotone_constraints=&#x27;()&#x27;, n_estimators=200, n_jobs=0,\n",
       "             num_parallel_tree=1, predictor=&#x27;auto&#x27;, random_state=0, reg_alpha=0,\n",
       "             reg_lambda=1, ...)</pre></div></div></div></div></div>"
      ],
      "text/plain": [
       "XGBRegressor(base_score=0.5, booster='dart', callbacks=None,\n",
       "             colsample_bylevel=1, colsample_bynode=1, colsample_bytree=1,\n",
       "             early_stopping_rounds=None, enable_categorical=False,\n",
       "             eval_metric=None, gamma=0, gpu_id=-1, grow_policy='depthwise',\n",
       "             importance_type='gain', interaction_constraints='',\n",
       "             learning_rate=0.300000012, max_bin=256, max_cat_to_onehot=4,\n",
       "             max_delta_step=0, max_depth=6, max_leaves=0, min_child_weight=1,\n",
       "             missing=nan, monotone_constraints='()', n_estimators=200, n_jobs=0,\n",
       "             num_parallel_tree=1, predictor='auto', random_state=0, reg_alpha=0,\n",
       "             reg_lambda=1, ...)"
      ]
     },
     "execution_count": 45,
     "metadata": {},
     "output_type": "execute_result"
    }
   ],
   "source": [
    "XGBR.fit(X_train,y_train)"
   ]
  },
  {
   "cell_type": "markdown",
   "id": "95ef6910",
   "metadata": {},
   "source": [
    "# Final Model Learning Curve"
   ]
  },
  {
   "cell_type": "code",
   "execution_count": 46,
   "id": "4707b3e3",
   "metadata": {},
   "outputs": [
    {
     "name": "stdout",
     "output_type": "stream",
     "text": [
      "MODEL PERFORMANCE CURVE\n"
     ]
    },
    {
     "data": {
      "image/png": "[encoded data removed]",
      "text/plain": [
       "<Figure size 432x288 with 1 Axes>"
      ]
     },
     "metadata": {
      "needs_background": "light"
     },
     "output_type": "display_data"
    }
   ],
   "source": [
    "print('MODEL PERFORMANCE CURVE')\n",
    "skplt.estimators.plot_learning_curve(XGBR, X,y, cv=kf, scoring='r2')\n",
    "plt.show()"
   ]
  },
  {
   "cell_type": "code",
   "execution_count": 47,
   "id": "13475c44",
   "metadata": {},
   "outputs": [],
   "source": [
    "y_pred = XGBR.predict(X_test)"
   ]
  },
  {
   "cell_type": "markdown",
   "id": "084c7abe",
   "metadata": {},
   "source": [
    "# Final model metrics"
   ]
  },
  {
   "cell_type": "code",
   "execution_count": 48,
   "id": "f672b637",
   "metadata": {},
   "outputs": [
    {
     "name": "stdout",
     "output_type": "stream",
     "text": [
      "MSE 1752025.8986596034\n",
      "MAE 725.7464340233765\n",
      "RMSE 1323.6411517702234\n",
      "R2_SCORE 0.9132592948235606\n",
      "MODEL SCORE 0.9132592948235606\n"
     ]
    }
   ],
   "source": [
    "print('MSE',mean_squared_error(y_test,y_pred))\n",
    "print('MAE',mean_absolute_error(y_test,y_pred))\n",
    "print('RMSE',np.sqrt(mean_squared_error(y_test,y_pred)))\n",
    "print('R2_SCORE',r2_score(y_test,y_pred))\n",
    "print('MODEL SCORE',XGBR.score(X_test,y_test))"
   ]
  },
  {
   "cell_type": "code",
   "execution_count": 68,
   "id": "ab94e1dd",
   "metadata": {},
   "outputs": [],
   "source": [
    "import pickle"
   ]
  },
  {
   "cell_type": "code",
   "execution_count": 69,
   "id": "86c7a256",
   "metadata": {},
   "outputs": [],
   "source": [
    "pickle.dump(Grid, open('Flight.pkl', 'wb'))"
   ]
  },
  {
   "cell_type": "code",
   "execution_count": 49,
   "id": "949bf2c0",
   "metadata": {},
   "outputs": [
    {
     "data": {
      "text/plain": [
       "['Flight.obj']"
      ]
     },
     "execution_count": 49,
     "metadata": {},
     "output_type": "execute_result"
    }
   ],
   "source": [
    "import joblib\n",
    "joblib.dump(Grid, 'Flight.obj')"
   ]
  },
  {
   "cell_type": "code",
   "execution_count": 50,
   "id": "571f4ad5",
   "metadata": {},
   "outputs": [],
   "source": [
    "model = joblib.load(\"C:/Users/Jeet Sarkar/Data Science PG Program/Flight.obj\")"
   ]
  },
  {
   "cell_type": "code",
   "execution_count": 51,
   "id": "a82816d5",
   "metadata": {},
   "outputs": [
    {
     "data": {
      "text/plain": [
       "array([11246.907 ,  5964.683 , 14827.979 , ...,  5857.024 ,  3349.2302,\n",
       "       10673.213 ], dtype=float32)"
      ]
     },
     "execution_count": 51,
     "metadata": {},
     "output_type": "execute_result"
    }
   ],
   "source": [
    "model.predict(X_test)"
   ]
  },
  {
   "cell_type": "markdown",
   "id": "966627d6",
   "metadata": {},
   "source": [
    "# Loading Test data"
   ]
  },
  {
   "cell_type": "code",
   "execution_count": 52,
   "id": "9cf74b79",
   "metadata": {},
   "outputs": [],
   "source": [
    "df1 = pd.read_excel(\"C:/Users/Jeet Sarkar/Data Science PG Program/Test_set.xlsx\")"
   ]
  },
  {
   "cell_type": "code",
   "execution_count": 53,
   "id": "78766773",
   "metadata": {},
   "outputs": [],
   "source": [
    "df1 = preprocess1(df1)"
   ]
  },
  {
   "cell_type": "code",
   "execution_count": 54,
   "id": "3697399b",
   "metadata": {},
   "outputs": [],
   "source": [
    "df1 = preprocess2(df1)"
   ]
  },
  {
   "cell_type": "code",
   "execution_count": 55,
   "id": "0635bd0b",
   "metadata": {},
   "outputs": [],
   "source": [
    "df1 = df1.drop([\"Year_of_Journey\"], axis=1)"
   ]
  },
  {
   "cell_type": "code",
   "execution_count": 56,
   "id": "e5fce09b",
   "metadata": {},
   "outputs": [],
   "source": [
    "df1 = ordinal_encoder(df1,['Airline','Source','Destination','Total_Stops','Additional_Info'])"
   ]
  },
  {
   "cell_type": "code",
   "execution_count": 57,
   "id": "5b83f158",
   "metadata": {},
   "outputs": [
    {
     "data": {
      "text/html": [
       "<div>\n",
       "<style scoped>\n",
       "    .dataframe tbody tr th:only-of-type {\n",
       "        vertical-align: middle;\n",
       "    }\n",
       "\n",
       "    .dataframe tbody tr th {\n",
       "        vertical-align: top;\n",
       "    }\n",
       "\n",
       "    .dataframe thead th {\n",
       "        text-align: right;\n",
       "    }\n",
       "</style>\n",
       "<table border=\"1\" class=\"dataframe\">\n",
       "  <thead>\n",
       "    <tr style=\"text-align: right;\">\n",
       "      <th></th>\n",
       "      <th>Airline</th>\n",
       "      <th>Source</th>\n",
       "      <th>Destination</th>\n",
       "      <th>Total_Stops</th>\n",
       "      <th>Additional_Info</th>\n",
       "      <th>Month_of_Journey</th>\n",
       "      <th>Day_of_Journey</th>\n",
       "      <th>Dep_Hour</th>\n",
       "      <th>Dep_Minute</th>\n",
       "      <th>Arrival_Hour</th>\n",
       "      <th>Arrival_Minute</th>\n",
       "    </tr>\n",
       "  </thead>\n",
       "  <tbody>\n",
       "    <tr>\n",
       "      <th>0</th>\n",
       "      <td>4.0</td>\n",
       "      <td>2.0</td>\n",
       "      <td>1.0</td>\n",
       "      <td>0.0</td>\n",
       "      <td>5.0</td>\n",
       "      <td>6</td>\n",
       "      <td>6</td>\n",
       "      <td>17</td>\n",
       "      <td>30</td>\n",
       "      <td>4</td>\n",
       "      <td>25</td>\n",
       "    </tr>\n",
       "    <tr>\n",
       "      <th>1</th>\n",
       "      <td>3.0</td>\n",
       "      <td>3.0</td>\n",
       "      <td>0.0</td>\n",
       "      <td>0.0</td>\n",
       "      <td>5.0</td>\n",
       "      <td>12</td>\n",
       "      <td>5</td>\n",
       "      <td>6</td>\n",
       "      <td>20</td>\n",
       "      <td>10</td>\n",
       "      <td>20</td>\n",
       "    </tr>\n",
       "    <tr>\n",
       "      <th>2</th>\n",
       "      <td>4.0</td>\n",
       "      <td>2.0</td>\n",
       "      <td>1.0</td>\n",
       "      <td>0.0</td>\n",
       "      <td>3.0</td>\n",
       "      <td>5</td>\n",
       "      <td>21</td>\n",
       "      <td>19</td>\n",
       "      <td>15</td>\n",
       "      <td>19</td>\n",
       "      <td>0</td>\n",
       "    </tr>\n",
       "    <tr>\n",
       "      <th>3</th>\n",
       "      <td>6.0</td>\n",
       "      <td>2.0</td>\n",
       "      <td>1.0</td>\n",
       "      <td>0.0</td>\n",
       "      <td>5.0</td>\n",
       "      <td>5</td>\n",
       "      <td>21</td>\n",
       "      <td>8</td>\n",
       "      <td>0</td>\n",
       "      <td>21</td>\n",
       "      <td>0</td>\n",
       "    </tr>\n",
       "    <tr>\n",
       "      <th>4</th>\n",
       "      <td>0.0</td>\n",
       "      <td>0.0</td>\n",
       "      <td>2.0</td>\n",
       "      <td>4.0</td>\n",
       "      <td>5.0</td>\n",
       "      <td>6</td>\n",
       "      <td>24</td>\n",
       "      <td>23</td>\n",
       "      <td>55</td>\n",
       "      <td>2</td>\n",
       "      <td>45</td>\n",
       "    </tr>\n",
       "    <tr>\n",
       "      <th>...</th>\n",
       "      <td>...</td>\n",
       "      <td>...</td>\n",
       "      <td>...</td>\n",
       "      <td>...</td>\n",
       "      <td>...</td>\n",
       "      <td>...</td>\n",
       "      <td>...</td>\n",
       "      <td>...</td>\n",
       "      <td>...</td>\n",
       "      <td>...</td>\n",
       "      <td>...</td>\n",
       "    </tr>\n",
       "    <tr>\n",
       "      <th>2666</th>\n",
       "      <td>1.0</td>\n",
       "      <td>3.0</td>\n",
       "      <td>0.0</td>\n",
       "      <td>0.0</td>\n",
       "      <td>5.0</td>\n",
       "      <td>6</td>\n",
       "      <td>6</td>\n",
       "      <td>20</td>\n",
       "      <td>30</td>\n",
       "      <td>20</td>\n",
       "      <td>25</td>\n",
       "    </tr>\n",
       "    <tr>\n",
       "      <th>2667</th>\n",
       "      <td>3.0</td>\n",
       "      <td>3.0</td>\n",
       "      <td>0.0</td>\n",
       "      <td>4.0</td>\n",
       "      <td>5.0</td>\n",
       "      <td>3</td>\n",
       "      <td>27</td>\n",
       "      <td>14</td>\n",
       "      <td>20</td>\n",
       "      <td>16</td>\n",
       "      <td>55</td>\n",
       "    </tr>\n",
       "    <tr>\n",
       "      <th>2668</th>\n",
       "      <td>4.0</td>\n",
       "      <td>2.0</td>\n",
       "      <td>1.0</td>\n",
       "      <td>0.0</td>\n",
       "      <td>5.0</td>\n",
       "      <td>6</td>\n",
       "      <td>3</td>\n",
       "      <td>21</td>\n",
       "      <td>50</td>\n",
       "      <td>4</td>\n",
       "      <td>25</td>\n",
       "    </tr>\n",
       "    <tr>\n",
       "      <th>2669</th>\n",
       "      <td>1.0</td>\n",
       "      <td>2.0</td>\n",
       "      <td>1.0</td>\n",
       "      <td>0.0</td>\n",
       "      <td>5.0</td>\n",
       "      <td>6</td>\n",
       "      <td>3</td>\n",
       "      <td>4</td>\n",
       "      <td>0</td>\n",
       "      <td>19</td>\n",
       "      <td>15</td>\n",
       "    </tr>\n",
       "    <tr>\n",
       "      <th>2670</th>\n",
       "      <td>6.0</td>\n",
       "      <td>2.0</td>\n",
       "      <td>1.0</td>\n",
       "      <td>0.0</td>\n",
       "      <td>5.0</td>\n",
       "      <td>6</td>\n",
       "      <td>15</td>\n",
       "      <td>4</td>\n",
       "      <td>55</td>\n",
       "      <td>19</td>\n",
       "      <td>15</td>\n",
       "    </tr>\n",
       "  </tbody>\n",
       "</table>\n",
       "<p>2671 rows × 11 columns</p>\n",
       "</div>"
      ],
      "text/plain": [
       "      Airline  Source  Destination  Total_Stops  Additional_Info  \\\n",
       "0         4.0     2.0          1.0          0.0              5.0   \n",
       "1         3.0     3.0          0.0          0.0              5.0   \n",
       "2         4.0     2.0          1.0          0.0              3.0   \n",
       "3         6.0     2.0          1.0          0.0              5.0   \n",
       "4         0.0     0.0          2.0          4.0              5.0   \n",
       "...       ...     ...          ...          ...              ...   \n",
       "2666      1.0     3.0          0.0          0.0              5.0   \n",
       "2667      3.0     3.0          0.0          4.0              5.0   \n",
       "2668      4.0     2.0          1.0          0.0              5.0   \n",
       "2669      1.0     2.0          1.0          0.0              5.0   \n",
       "2670      6.0     2.0          1.0          0.0              5.0   \n",
       "\n",
       "      Month_of_Journey  Day_of_Journey  Dep_Hour  Dep_Minute  Arrival_Hour  \\\n",
       "0                    6               6        17          30             4   \n",
       "1                   12               5         6          20            10   \n",
       "2                    5              21        19          15            19   \n",
       "3                    5              21         8           0            21   \n",
       "4                    6              24        23          55             2   \n",
       "...                ...             ...       ...         ...           ...   \n",
       "2666                 6               6        20          30            20   \n",
       "2667                 3              27        14          20            16   \n",
       "2668                 6               3        21          50             4   \n",
       "2669                 6               3         4           0            19   \n",
       "2670                 6              15         4          55            19   \n",
       "\n",
       "      Arrival_Minute  \n",
       "0                 25  \n",
       "1                 20  \n",
       "2                  0  \n",
       "3                  0  \n",
       "4                 45  \n",
       "...              ...  \n",
       "2666              25  \n",
       "2667              55  \n",
       "2668              25  \n",
       "2669              15  \n",
       "2670              15  \n",
       "\n",
       "[2671 rows x 11 columns]"
      ]
     },
     "execution_count": 57,
     "metadata": {},
     "output_type": "execute_result"
    }
   ],
   "source": [
    "df1"
   ]
  },
  {
   "cell_type": "markdown",
   "id": "ca497276",
   "metadata": {},
   "source": [
    "# Test data Price prediction"
   ]
  },
  {
   "cell_type": "code",
   "execution_count": 67,
   "id": "67c0472c",
   "metadata": {},
   "outputs": [
    {
     "data": {
      "text/plain": [
       "array([ 9925.199,  3677.557, 10938.26 , ..., 13452.605,  9930.895,\n",
       "        7776.819], dtype=float32)"
      ]
     },
     "execution_count": 67,
     "metadata": {},
     "output_type": "execute_result"
    }
   ],
   "source": [
    "model.predict(df1)"
   ]
  },
  {
   "cell_type": "markdown",
   "id": "164f9c28",
   "metadata": {},
   "source": [
    "# Conclusion\n",
    "\n",
    "1-Data was having only one continuous value that was our target column\n",
    "\n",
    "2-I did EDA to understand the data and written the observation also\n",
    "\n",
    "3-i did all the preprocessing from data cleaning to data transformation and also did Feature engineering\n",
    "\n",
    "4-My all columns was categorical so there was no need to remove outliers and skewness and no need to apply scaling also\n",
    "\n",
    "3-Finally i build a model that was giving me 90% CSV accuracy\n",
    "\n",
    "4-And finally my model can predict the flight price"
   ]
  },
  {
   "cell_type": "code",
   "execution_count": null,
   "id": "984b014e",
   "metadata": {},
   "outputs": [],
   "source": []
  }
 ],
 "metadata": {
  "kernelspec": {
   "display_name": "Python 3 (ipykernel)",
   "language": "python",
   "name": "python3"
  },
  "language_info": {
   "codemirror_mode": {
    "name": "ipython",
    "version": 3
   },
   "file_extension": ".py",
   "mimetype": "text/x-python",
   "name": "python",
   "nbconvert_exporter": "python",
   "pygments_lexer": "ipython3",
   "version": "3.7.0"
  }
 },
 "nbformat": 4,
 "nbformat_minor": 5
}
